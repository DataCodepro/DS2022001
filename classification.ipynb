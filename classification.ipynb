{
 "cells": [
  {
   "cell_type": "code",
   "execution_count": null,
   "metadata": {},
   "outputs": [],
   "source": [
    "#Required Dataset: horse\n",
    "#1.perform a good cleaning on the dataset no option of \n",
    "#2.Plot a graph showing the percentage for the values under the column of age and note your observation\n",
    "#3.plot a graph to show the percentage rate for the column of Pain also note your observation\n",
    "#4.plot a graph to determine the observation between age and outcome\n",
    "#5.drop hospital_number and determine the dependent variable and split the data into train and test with test size of 0.2\n"
   ]
  },
  {
   "cell_type": "code",
   "execution_count": 1,
   "metadata": {},
   "outputs": [],
   "source": [
    "import numpy as np\n",
    "import pandas as pd\n",
    "import matplotlib.pyplot as plt\n",
    "import seaborn as sns\n",
    "import plotly.express as px\n",
    "from sklearn.model_selection import train_test_split\n",
    "from sklearn.linear_model import LogisticRegression\n",
    "from sklearn.neighbors import KNeighborsClassifier\n",
    "from sklearn.tree import DecisionTreeClassifier\n",
    "from sklearn.ensemble import RandomForestClassifier\n",
    "from sklearn.pipeline import Pipeline\n",
    "from sklearn.metrics import classification_report, confusion_matrix\n",
    "from sklearn.preprocessing import LabelEncoder"
   ]
  },
  {
   "cell_type": "code",
   "execution_count": 4,
   "metadata": {},
   "outputs": [
    {
     "data": {
      "text/html": [
       "<div>\n",
       "<style scoped>\n",
       "    .dataframe tbody tr th:only-of-type {\n",
       "        vertical-align: middle;\n",
       "    }\n",
       "\n",
       "    .dataframe tbody tr th {\n",
       "        vertical-align: top;\n",
       "    }\n",
       "\n",
       "    .dataframe thead th {\n",
       "        text-align: right;\n",
       "    }\n",
       "</style>\n",
       "<table border=\"1\" class=\"dataframe\">\n",
       "  <thead>\n",
       "    <tr style=\"text-align: right;\">\n",
       "      <th></th>\n",
       "      <th>surgery</th>\n",
       "      <th>age</th>\n",
       "      <th>hospital_number</th>\n",
       "      <th>rectal_temp</th>\n",
       "      <th>pulse</th>\n",
       "      <th>respiratory_rate</th>\n",
       "      <th>temp_of_extremities</th>\n",
       "      <th>peripheral_pulse</th>\n",
       "      <th>mucous_membrane</th>\n",
       "      <th>capillary_refill_time</th>\n",
       "      <th>...</th>\n",
       "      <th>packed_cell_volume</th>\n",
       "      <th>total_protein</th>\n",
       "      <th>abdomo_appearance</th>\n",
       "      <th>abdomo_protein</th>\n",
       "      <th>outcome</th>\n",
       "      <th>surgical_lesion</th>\n",
       "      <th>lesion_1</th>\n",
       "      <th>lesion_2</th>\n",
       "      <th>lesion_3</th>\n",
       "      <th>cp_data</th>\n",
       "    </tr>\n",
       "  </thead>\n",
       "  <tbody>\n",
       "    <tr>\n",
       "      <th>0</th>\n",
       "      <td>no</td>\n",
       "      <td>adult</td>\n",
       "      <td>530101.0</td>\n",
       "      <td>38.5</td>\n",
       "      <td>66.0</td>\n",
       "      <td>28.0</td>\n",
       "      <td>cool</td>\n",
       "      <td>reduced</td>\n",
       "      <td>NaN</td>\n",
       "      <td>more_3_sec</td>\n",
       "      <td>...</td>\n",
       "      <td>45.0</td>\n",
       "      <td>8.4</td>\n",
       "      <td>NaN</td>\n",
       "      <td>NaN</td>\n",
       "      <td>died</td>\n",
       "      <td>no</td>\n",
       "      <td>11300.0</td>\n",
       "      <td>0.0</td>\n",
       "      <td>0</td>\n",
       "      <td>no</td>\n",
       "    </tr>\n",
       "    <tr>\n",
       "      <th>1</th>\n",
       "      <td>yes</td>\n",
       "      <td>adult</td>\n",
       "      <td>534817.0</td>\n",
       "      <td>39.2</td>\n",
       "      <td>88.0</td>\n",
       "      <td>20.0</td>\n",
       "      <td>NaN</td>\n",
       "      <td>NaN</td>\n",
       "      <td>pale_cyanotic</td>\n",
       "      <td>less_3_sec</td>\n",
       "      <td>...</td>\n",
       "      <td>50.0</td>\n",
       "      <td>85.0</td>\n",
       "      <td>cloudy</td>\n",
       "      <td>2.0</td>\n",
       "      <td>euthanized</td>\n",
       "      <td>no</td>\n",
       "      <td>2208.0</td>\n",
       "      <td>0.0</td>\n",
       "      <td>0</td>\n",
       "      <td>no</td>\n",
       "    </tr>\n",
       "    <tr>\n",
       "      <th>2</th>\n",
       "      <td>no</td>\n",
       "      <td>adult</td>\n",
       "      <td>530334.0</td>\n",
       "      <td>38.3</td>\n",
       "      <td>40.0</td>\n",
       "      <td>24.0</td>\n",
       "      <td>normal</td>\n",
       "      <td>normal</td>\n",
       "      <td>pale_pink</td>\n",
       "      <td>less_3_sec</td>\n",
       "      <td>...</td>\n",
       "      <td>33.0</td>\n",
       "      <td>6.7</td>\n",
       "      <td>NaN</td>\n",
       "      <td>NaN</td>\n",
       "      <td>lived</td>\n",
       "      <td>no</td>\n",
       "      <td>0.0</td>\n",
       "      <td>0.0</td>\n",
       "      <td>0</td>\n",
       "      <td>yes</td>\n",
       "    </tr>\n",
       "    <tr>\n",
       "      <th>3</th>\n",
       "      <td>yes</td>\n",
       "      <td>young</td>\n",
       "      <td>5290409.0</td>\n",
       "      <td>39.1</td>\n",
       "      <td>164.0</td>\n",
       "      <td>84.0</td>\n",
       "      <td>cold</td>\n",
       "      <td>normal</td>\n",
       "      <td>dark_cyanotic</td>\n",
       "      <td>more_3_sec</td>\n",
       "      <td>...</td>\n",
       "      <td>48.0</td>\n",
       "      <td>7.2</td>\n",
       "      <td>serosanguious</td>\n",
       "      <td>5.3</td>\n",
       "      <td>died</td>\n",
       "      <td>yes</td>\n",
       "      <td>2208.0</td>\n",
       "      <td>0.0</td>\n",
       "      <td>0</td>\n",
       "      <td>yes</td>\n",
       "    </tr>\n",
       "    <tr>\n",
       "      <th>4</th>\n",
       "      <td>no</td>\n",
       "      <td>adult</td>\n",
       "      <td>530255.0</td>\n",
       "      <td>37.3</td>\n",
       "      <td>104.0</td>\n",
       "      <td>35.0</td>\n",
       "      <td>NaN</td>\n",
       "      <td>NaN</td>\n",
       "      <td>dark_cyanotic</td>\n",
       "      <td>more_3_sec</td>\n",
       "      <td>...</td>\n",
       "      <td>74.0</td>\n",
       "      <td>7.4</td>\n",
       "      <td>NaN</td>\n",
       "      <td>NaN</td>\n",
       "      <td>died</td>\n",
       "      <td>no</td>\n",
       "      <td>4300.0</td>\n",
       "      <td>0.0</td>\n",
       "      <td>0</td>\n",
       "      <td>no</td>\n",
       "    </tr>\n",
       "  </tbody>\n",
       "</table>\n",
       "<p>5 rows × 28 columns</p>\n",
       "</div>"
      ],
      "text/plain": [
       "  surgery    age  hospital_number  rectal_temp  pulse  respiratory_rate  \\\n",
       "0      no  adult         530101.0         38.5   66.0              28.0   \n",
       "1     yes  adult         534817.0         39.2   88.0              20.0   \n",
       "2      no  adult         530334.0         38.3   40.0              24.0   \n",
       "3     yes  young        5290409.0         39.1  164.0              84.0   \n",
       "4      no  adult         530255.0         37.3  104.0              35.0   \n",
       "\n",
       "  temp_of_extremities peripheral_pulse mucous_membrane capillary_refill_time  \\\n",
       "0                cool          reduced             NaN            more_3_sec   \n",
       "1                 NaN              NaN   pale_cyanotic            less_3_sec   \n",
       "2              normal           normal       pale_pink            less_3_sec   \n",
       "3                cold           normal   dark_cyanotic            more_3_sec   \n",
       "4                 NaN              NaN   dark_cyanotic            more_3_sec   \n",
       "\n",
       "   ... packed_cell_volume total_protein abdomo_appearance abdomo_protein  \\\n",
       "0  ...               45.0           8.4               NaN            NaN   \n",
       "1  ...               50.0          85.0            cloudy            2.0   \n",
       "2  ...               33.0           6.7               NaN            NaN   \n",
       "3  ...               48.0           7.2     serosanguious            5.3   \n",
       "4  ...               74.0           7.4               NaN            NaN   \n",
       "\n",
       "      outcome  surgical_lesion lesion_1 lesion_2  lesion_3  cp_data  \n",
       "0        died               no  11300.0      0.0         0       no  \n",
       "1  euthanized               no   2208.0      0.0         0       no  \n",
       "2       lived               no      0.0      0.0         0      yes  \n",
       "3        died              yes   2208.0      0.0         0      yes  \n",
       "4        died               no   4300.0      0.0         0       no  \n",
       "\n",
       "[5 rows x 28 columns]"
      ]
     },
     "execution_count": 4,
     "metadata": {},
     "output_type": "execute_result"
    }
   ],
   "source": [
    "df = pd.read_csv('horse.csv')\n",
    "df.head()"
   ]
  },
  {
   "cell_type": "code",
   "execution_count": 5,
   "metadata": {},
   "outputs": [
    {
     "data": {
      "text/html": [
       "<div>\n",
       "<style scoped>\n",
       "    .dataframe tbody tr th:only-of-type {\n",
       "        vertical-align: middle;\n",
       "    }\n",
       "\n",
       "    .dataframe tbody tr th {\n",
       "        vertical-align: top;\n",
       "    }\n",
       "\n",
       "    .dataframe thead th {\n",
       "        text-align: right;\n",
       "    }\n",
       "</style>\n",
       "<table border=\"1\" class=\"dataframe\">\n",
       "  <thead>\n",
       "    <tr style=\"text-align: right;\">\n",
       "      <th></th>\n",
       "      <th>Total</th>\n",
       "      <th>Percent</th>\n",
       "    </tr>\n",
       "  </thead>\n",
       "  <tbody>\n",
       "    <tr>\n",
       "      <th>nasogastric_reflux_ph</th>\n",
       "      <td>246</td>\n",
       "      <td>0.822742</td>\n",
       "    </tr>\n",
       "    <tr>\n",
       "      <th>abdomo_protein</th>\n",
       "      <td>201</td>\n",
       "      <td>0.672241</td>\n",
       "    </tr>\n",
       "    <tr>\n",
       "      <th>abdomo_appearance</th>\n",
       "      <td>168</td>\n",
       "      <td>0.561873</td>\n",
       "    </tr>\n",
       "    <tr>\n",
       "      <th>abdomen</th>\n",
       "      <td>124</td>\n",
       "      <td>0.414716</td>\n",
       "    </tr>\n",
       "    <tr>\n",
       "      <th>nasogastric_reflux</th>\n",
       "      <td>109</td>\n",
       "      <td>0.364548</td>\n",
       "    </tr>\n",
       "    <tr>\n",
       "      <th>nasogastric_tube</th>\n",
       "      <td>107</td>\n",
       "      <td>0.357860</td>\n",
       "    </tr>\n",
       "    <tr>\n",
       "      <th>rectal_exam_feces</th>\n",
       "      <td>107</td>\n",
       "      <td>0.357860</td>\n",
       "    </tr>\n",
       "    <tr>\n",
       "      <th>peripheral_pulse</th>\n",
       "      <td>73</td>\n",
       "      <td>0.244147</td>\n",
       "    </tr>\n",
       "    <tr>\n",
       "      <th>rectal_temp</th>\n",
       "      <td>65</td>\n",
       "      <td>0.217391</td>\n",
       "    </tr>\n",
       "    <tr>\n",
       "      <th>respiratory_rate</th>\n",
       "      <td>64</td>\n",
       "      <td>0.214047</td>\n",
       "    </tr>\n",
       "    <tr>\n",
       "      <th>temp_of_extremities</th>\n",
       "      <td>61</td>\n",
       "      <td>0.204013</td>\n",
       "    </tr>\n",
       "    <tr>\n",
       "      <th>pain</th>\n",
       "      <td>60</td>\n",
       "      <td>0.200669</td>\n",
       "    </tr>\n",
       "    <tr>\n",
       "      <th>abdominal_distention</th>\n",
       "      <td>60</td>\n",
       "      <td>0.200669</td>\n",
       "    </tr>\n",
       "    <tr>\n",
       "      <th>mucous_membrane</th>\n",
       "      <td>52</td>\n",
       "      <td>0.173913</td>\n",
       "    </tr>\n",
       "    <tr>\n",
       "      <th>peristalsis</th>\n",
       "      <td>49</td>\n",
       "      <td>0.163880</td>\n",
       "    </tr>\n",
       "    <tr>\n",
       "      <th>total_protein</th>\n",
       "      <td>38</td>\n",
       "      <td>0.127090</td>\n",
       "    </tr>\n",
       "    <tr>\n",
       "      <th>capillary_refill_time</th>\n",
       "      <td>37</td>\n",
       "      <td>0.123746</td>\n",
       "    </tr>\n",
       "    <tr>\n",
       "      <th>packed_cell_volume</th>\n",
       "      <td>35</td>\n",
       "      <td>0.117057</td>\n",
       "    </tr>\n",
       "    <tr>\n",
       "      <th>pulse</th>\n",
       "      <td>30</td>\n",
       "      <td>0.100334</td>\n",
       "    </tr>\n",
       "    <tr>\n",
       "      <th>surgical_lesion</th>\n",
       "      <td>6</td>\n",
       "      <td>0.020067</td>\n",
       "    </tr>\n",
       "  </tbody>\n",
       "</table>\n",
       "</div>"
      ],
      "text/plain": [
       "                       Total   Percent\n",
       "nasogastric_reflux_ph    246  0.822742\n",
       "abdomo_protein           201  0.672241\n",
       "abdomo_appearance        168  0.561873\n",
       "abdomen                  124  0.414716\n",
       "nasogastric_reflux       109  0.364548\n",
       "nasogastric_tube         107  0.357860\n",
       "rectal_exam_feces        107  0.357860\n",
       "peripheral_pulse          73  0.244147\n",
       "rectal_temp               65  0.217391\n",
       "respiratory_rate          64  0.214047\n",
       "temp_of_extremities       61  0.204013\n",
       "pain                      60  0.200669\n",
       "abdominal_distention      60  0.200669\n",
       "mucous_membrane           52  0.173913\n",
       "peristalsis               49  0.163880\n",
       "total_protein             38  0.127090\n",
       "capillary_refill_time     37  0.123746\n",
       "packed_cell_volume        35  0.117057\n",
       "pulse                     30  0.100334\n",
       "surgical_lesion            6  0.020067"
      ]
     },
     "execution_count": 5,
     "metadata": {},
     "output_type": "execute_result"
    }
   ],
   "source": [
    "total = df.isnull().sum().sort_values(ascending=False)\n",
    "percent = (df.isnull().sum()/df.isnull().count()).sort_values(ascending=False)\n",
    "missing_data = pd.concat([total, percent], axis=1, keys=['Total', 'Percent'])\n",
    "missing_data.head(20)"
   ]
  },
  {
   "cell_type": "code",
   "execution_count": 6,
   "metadata": {},
   "outputs": [],
   "source": [
    "df['surgery'] = df['surgery'].fillna(df['surgery'].dropna().mode().values[0] )\n",
    "df['age'] = df['age'].fillna(df['age'].dropna().mode().values[0] )\n",
    "df['temp_of_extremities'] = df['temp_of_extremities'].fillna(df['temp_of_extremities'].dropna().mode().values[0] )\n",
    "df['peripheral_pulse'] = df['peripheral_pulse'].fillna(df['peripheral_pulse'].dropna().mode().values[0] )\n",
    "df['mucous_membrane'] = df['mucous_membrane'].fillna(df['mucous_membrane'].dropna().mode().values[0] )\n",
    "df['capillary_refill_time'] = df['capillary_refill_time'].fillna(df['capillary_refill_time'].dropna().mode().values[0] )\n",
    "df['pain'] = df['pain'].fillna(df['pain'].dropna().mode().values[0] )\n",
    "df['abdomo_appearance'] = df['abdomo_appearance'].fillna(df['abdomo_appearance'].dropna().mode().values[0] )\n",
    "df['peristalsis'] = df['peristalsis'].fillna(df['peristalsis'].dropna().mode().values[0] )\n",
    "df['abdominal_distention'] = df['abdominal_distention'].fillna(df['abdominal_distention'].dropna().mode().values[0] )\n",
    "df['nasogastric_tube'] = df['nasogastric_tube'].fillna(df['nasogastric_tube'].dropna().mode().values[0] )\n",
    "df['nasogastric_reflux'] = df['nasogastric_reflux'].fillna(df['nasogastric_reflux'].dropna().mode().values[0] )\n",
    "df['rectal_exam_feces'] = df['rectal_exam_feces'].fillna(df['rectal_exam_feces'].dropna().mode().values[0] )\n",
    "df['abdomen'] = df['abdomen'].fillna(df['abdomen'].dropna().mode().values[0] )\n",
    "df['surgical_lesion'] = df['surgical_lesion'].fillna(df['surgical_lesion'].dropna().mode().values[0] )\n",
    "df['cp_data'] = df['cp_data'].fillna(df['cp_data'].dropna().mode().values[0] )\n",
    "df['outcome'] = df['outcome'].fillna(df['outcome'].dropna().mode().values[0] )\n",
    "\n",
    "\n"
   ]
  },
  {
   "cell_type": "code",
   "execution_count": 11,
   "metadata": {},
   "outputs": [],
   "source": [
    "df['nasogastric_reflux_ph'] = df['nasogastric_reflux_ph'].fillna(df['nasogastric_reflux_ph'].dropna().mean() )\n",
    "df['abdomo_protein'] = df['abdomo_protein'].fillna(df['abdomo_protein'].dropna().mean() )\n",
    "df['rectal_temp'] = df['rectal_temp'].fillna(df['rectal_temp'].dropna().mean() )\n",
    "df['respiratory_rate'] = df['respiratory_rate'].fillna(df['respiratory_rate'].dropna().mean() )\n",
    "df['total_protein'] = df['total_protein'].fillna(df['total_protein'].dropna().mean() )\n",
    "df['packed_cell_volume'] = df['packed_cell_volume'].fillna(df['packed_cell_volume'].dropna().mean() )\n",
    "df['pulse'] = df['pulse'].fillna(df['pulse'].dropna().mean() )\n",
    "df['hospital_number'] = df['hospital_number'].fillna(df['hospital_number'].dropna().mean() )\n",
    "df['lesion_2'] = df['lesion_2'].fillna(df['lesion_2'].dropna().mean() )\n",
    "df['lesion_1'] = df['lesion_1'].fillna(df['lesion_1'].dropna().mean() )"
   ]
  },
  {
   "cell_type": "code",
   "execution_count": 12,
   "metadata": {},
   "outputs": [
    {
     "data": {
      "text/html": [
       "<div>\n",
       "<style scoped>\n",
       "    .dataframe tbody tr th:only-of-type {\n",
       "        vertical-align: middle;\n",
       "    }\n",
       "\n",
       "    .dataframe tbody tr th {\n",
       "        vertical-align: top;\n",
       "    }\n",
       "\n",
       "    .dataframe thead th {\n",
       "        text-align: right;\n",
       "    }\n",
       "</style>\n",
       "<table border=\"1\" class=\"dataframe\">\n",
       "  <thead>\n",
       "    <tr style=\"text-align: right;\">\n",
       "      <th></th>\n",
       "      <th>Total</th>\n",
       "      <th>Percent</th>\n",
       "    </tr>\n",
       "  </thead>\n",
       "  <tbody>\n",
       "    <tr>\n",
       "      <th>surgery</th>\n",
       "      <td>0</td>\n",
       "      <td>0.0</td>\n",
       "    </tr>\n",
       "    <tr>\n",
       "      <th>age</th>\n",
       "      <td>0</td>\n",
       "      <td>0.0</td>\n",
       "    </tr>\n",
       "    <tr>\n",
       "      <th>lesion_3</th>\n",
       "      <td>0</td>\n",
       "      <td>0.0</td>\n",
       "    </tr>\n",
       "    <tr>\n",
       "      <th>lesion_2</th>\n",
       "      <td>0</td>\n",
       "      <td>0.0</td>\n",
       "    </tr>\n",
       "    <tr>\n",
       "      <th>lesion_1</th>\n",
       "      <td>0</td>\n",
       "      <td>0.0</td>\n",
       "    </tr>\n",
       "    <tr>\n",
       "      <th>surgical_lesion</th>\n",
       "      <td>0</td>\n",
       "      <td>0.0</td>\n",
       "    </tr>\n",
       "    <tr>\n",
       "      <th>outcome</th>\n",
       "      <td>0</td>\n",
       "      <td>0.0</td>\n",
       "    </tr>\n",
       "    <tr>\n",
       "      <th>abdomo_protein</th>\n",
       "      <td>0</td>\n",
       "      <td>0.0</td>\n",
       "    </tr>\n",
       "    <tr>\n",
       "      <th>abdomo_appearance</th>\n",
       "      <td>0</td>\n",
       "      <td>0.0</td>\n",
       "    </tr>\n",
       "    <tr>\n",
       "      <th>total_protein</th>\n",
       "      <td>0</td>\n",
       "      <td>0.0</td>\n",
       "    </tr>\n",
       "    <tr>\n",
       "      <th>packed_cell_volume</th>\n",
       "      <td>0</td>\n",
       "      <td>0.0</td>\n",
       "    </tr>\n",
       "    <tr>\n",
       "      <th>abdomen</th>\n",
       "      <td>0</td>\n",
       "      <td>0.0</td>\n",
       "    </tr>\n",
       "    <tr>\n",
       "      <th>rectal_exam_feces</th>\n",
       "      <td>0</td>\n",
       "      <td>0.0</td>\n",
       "    </tr>\n",
       "    <tr>\n",
       "      <th>nasogastric_reflux_ph</th>\n",
       "      <td>0</td>\n",
       "      <td>0.0</td>\n",
       "    </tr>\n",
       "    <tr>\n",
       "      <th>nasogastric_reflux</th>\n",
       "      <td>0</td>\n",
       "      <td>0.0</td>\n",
       "    </tr>\n",
       "    <tr>\n",
       "      <th>nasogastric_tube</th>\n",
       "      <td>0</td>\n",
       "      <td>0.0</td>\n",
       "    </tr>\n",
       "    <tr>\n",
       "      <th>abdominal_distention</th>\n",
       "      <td>0</td>\n",
       "      <td>0.0</td>\n",
       "    </tr>\n",
       "    <tr>\n",
       "      <th>peristalsis</th>\n",
       "      <td>0</td>\n",
       "      <td>0.0</td>\n",
       "    </tr>\n",
       "    <tr>\n",
       "      <th>pain</th>\n",
       "      <td>0</td>\n",
       "      <td>0.0</td>\n",
       "    </tr>\n",
       "    <tr>\n",
       "      <th>capillary_refill_time</th>\n",
       "      <td>0</td>\n",
       "      <td>0.0</td>\n",
       "    </tr>\n",
       "    <tr>\n",
       "      <th>mucous_membrane</th>\n",
       "      <td>0</td>\n",
       "      <td>0.0</td>\n",
       "    </tr>\n",
       "    <tr>\n",
       "      <th>peripheral_pulse</th>\n",
       "      <td>0</td>\n",
       "      <td>0.0</td>\n",
       "    </tr>\n",
       "    <tr>\n",
       "      <th>temp_of_extremities</th>\n",
       "      <td>0</td>\n",
       "      <td>0.0</td>\n",
       "    </tr>\n",
       "    <tr>\n",
       "      <th>respiratory_rate</th>\n",
       "      <td>0</td>\n",
       "      <td>0.0</td>\n",
       "    </tr>\n",
       "    <tr>\n",
       "      <th>pulse</th>\n",
       "      <td>0</td>\n",
       "      <td>0.0</td>\n",
       "    </tr>\n",
       "    <tr>\n",
       "      <th>rectal_temp</th>\n",
       "      <td>0</td>\n",
       "      <td>0.0</td>\n",
       "    </tr>\n",
       "    <tr>\n",
       "      <th>hospital_number</th>\n",
       "      <td>0</td>\n",
       "      <td>0.0</td>\n",
       "    </tr>\n",
       "    <tr>\n",
       "      <th>cp_data</th>\n",
       "      <td>0</td>\n",
       "      <td>0.0</td>\n",
       "    </tr>\n",
       "  </tbody>\n",
       "</table>\n",
       "</div>"
      ],
      "text/plain": [
       "                       Total  Percent\n",
       "surgery                    0      0.0\n",
       "age                        0      0.0\n",
       "lesion_3                   0      0.0\n",
       "lesion_2                   0      0.0\n",
       "lesion_1                   0      0.0\n",
       "surgical_lesion            0      0.0\n",
       "outcome                    0      0.0\n",
       "abdomo_protein             0      0.0\n",
       "abdomo_appearance          0      0.0\n",
       "total_protein              0      0.0\n",
       "packed_cell_volume         0      0.0\n",
       "abdomen                    0      0.0\n",
       "rectal_exam_feces          0      0.0\n",
       "nasogastric_reflux_ph      0      0.0\n",
       "nasogastric_reflux         0      0.0\n",
       "nasogastric_tube           0      0.0\n",
       "abdominal_distention       0      0.0\n",
       "peristalsis                0      0.0\n",
       "pain                       0      0.0\n",
       "capillary_refill_time      0      0.0\n",
       "mucous_membrane            0      0.0\n",
       "peripheral_pulse           0      0.0\n",
       "temp_of_extremities        0      0.0\n",
       "respiratory_rate           0      0.0\n",
       "pulse                      0      0.0\n",
       "rectal_temp                0      0.0\n",
       "hospital_number            0      0.0\n",
       "cp_data                    0      0.0"
      ]
     },
     "execution_count": 12,
     "metadata": {},
     "output_type": "execute_result"
    }
   ],
   "source": [
    "total = df.isnull().sum().sort_values(ascending=False)\n",
    "percent = (df.isnull().sum()/df.isnull().count()).sort_values(ascending=False)\n",
    "missing_data = pd.concat([total, percent], axis=1, keys=['Total', 'Percent'])\n",
    "missing_data"
   ]
  },
  {
   "cell_type": "code",
   "execution_count": 10,
   "metadata": {},
   "outputs": [
    {
     "name": "stdout",
     "output_type": "stream",
     "text": [
      "<class 'pandas.core.frame.DataFrame'>\n",
      "RangeIndex: 299 entries, 0 to 298\n",
      "Data columns (total 28 columns):\n",
      " #   Column                 Non-Null Count  Dtype  \n",
      "---  ------                 --------------  -----  \n",
      " 0   surgery                299 non-null    object \n",
      " 1   age                    299 non-null    object \n",
      " 2   hospital_number        293 non-null    float64\n",
      " 3   rectal_temp            234 non-null    float64\n",
      " 4   pulse                  269 non-null    float64\n",
      " 5   respiratory_rate       235 non-null    float64\n",
      " 6   temp_of_extremities    299 non-null    object \n",
      " 7   peripheral_pulse       299 non-null    object \n",
      " 8   mucous_membrane        299 non-null    object \n",
      " 9   capillary_refill_time  299 non-null    object \n",
      " 10  pain                   299 non-null    object \n",
      " 11  peristalsis            299 non-null    object \n",
      " 12  abdominal_distention   299 non-null    object \n",
      " 13  nasogastric_tube       299 non-null    object \n",
      " 14  nasogastric_reflux     299 non-null    object \n",
      " 15  nasogastric_reflux_ph  53 non-null     float64\n",
      " 16  rectal_exam_feces      299 non-null    object \n",
      " 17  abdomen                299 non-null    object \n",
      " 18  packed_cell_volume     264 non-null    float64\n",
      " 19  total_protein          261 non-null    float64\n",
      " 20  abdomo_appearance      299 non-null    object \n",
      " 21  abdomo_protein         98 non-null     float64\n",
      " 22  outcome                299 non-null    object \n",
      " 23  surgical_lesion        299 non-null    object \n",
      " 24  lesion_1               293 non-null    float64\n",
      " 25  lesion_2               293 non-null    float64\n",
      " 26  lesion_3               299 non-null    int64  \n",
      " 27  cp_data                299 non-null    object \n",
      "dtypes: float64(10), int64(1), object(17)\n",
      "memory usage: 65.5+ KB\n"
     ]
    }
   ],
   "source": [
    "df.info()"
   ]
  },
  {
   "cell_type": "code",
   "execution_count": 13,
   "metadata": {},
   "outputs": [
    {
     "data": {
      "text/plain": [
       "(299, 28)"
      ]
     },
     "execution_count": 13,
     "metadata": {},
     "output_type": "execute_result"
    }
   ],
   "source": [
    "df.shape"
   ]
  },
  {
   "cell_type": "code",
   "execution_count": 14,
   "metadata": {},
   "outputs": [
    {
     "data": {
      "application/vnd.plotly.v1+json": {
       "config": {
        "plotlyServerURL": "https://plot.ly"
       },
       "data": [
        {
         "customdata": [
          [
           "adult"
          ],
          [
           "adult"
          ],
          [
           "adult"
          ],
          [
           "young"
          ],
          [
           "adult"
          ],
          [
           "adult"
          ],
          [
           "adult"
          ],
          [
           "adult"
          ],
          [
           "adult"
          ],
          [
           "young"
          ],
          [
           "adult"
          ],
          [
           "adult"
          ],
          [
           "adult"
          ],
          [
           "young"
          ],
          [
           "adult"
          ],
          [
           "adult"
          ],
          [
           "young"
          ],
          [
           "adult"
          ],
          [
           "adult"
          ],
          [
           "adult"
          ],
          [
           "adult"
          ],
          [
           "adult"
          ],
          [
           "adult"
          ],
          [
           "young"
          ],
          [
           "adult"
          ],
          [
           "adult"
          ],
          [
           "adult"
          ],
          [
           "adult"
          ],
          [
           "adult"
          ],
          [
           "adult"
          ],
          [
           "adult"
          ],
          [
           "adult"
          ],
          [
           "adult"
          ],
          [
           "adult"
          ],
          [
           "adult"
          ],
          [
           "adult"
          ],
          [
           "adult"
          ],
          [
           "adult"
          ],
          [
           "adult"
          ],
          [
           "young"
          ],
          [
           "adult"
          ],
          [
           "young"
          ],
          [
           "adult"
          ],
          [
           "adult"
          ],
          [
           "adult"
          ],
          [
           "adult"
          ],
          [
           "adult"
          ],
          [
           "adult"
          ],
          [
           "adult"
          ],
          [
           "adult"
          ],
          [
           "adult"
          ],
          [
           "adult"
          ],
          [
           "adult"
          ],
          [
           "adult"
          ],
          [
           "adult"
          ],
          [
           "young"
          ],
          [
           "adult"
          ],
          [
           "adult"
          ],
          [
           "adult"
          ],
          [
           "adult"
          ],
          [
           "adult"
          ],
          [
           "adult"
          ],
          [
           "adult"
          ],
          [
           "adult"
          ],
          [
           "adult"
          ],
          [
           "adult"
          ],
          [
           "adult"
          ],
          [
           "adult"
          ],
          [
           "adult"
          ],
          [
           "adult"
          ],
          [
           "adult"
          ],
          [
           "adult"
          ],
          [
           "adult"
          ],
          [
           "adult"
          ],
          [
           "young"
          ],
          [
           "young"
          ],
          [
           "adult"
          ],
          [
           "adult"
          ],
          [
           "adult"
          ],
          [
           "adult"
          ],
          [
           "adult"
          ],
          [
           "adult"
          ],
          [
           "young"
          ],
          [
           "adult"
          ],
          [
           "adult"
          ],
          [
           "adult"
          ],
          [
           "adult"
          ],
          [
           "adult"
          ],
          [
           "adult"
          ],
          [
           "adult"
          ],
          [
           "adult"
          ],
          [
           "adult"
          ],
          [
           "adult"
          ],
          [
           "adult"
          ],
          [
           "adult"
          ],
          [
           "adult"
          ],
          [
           "adult"
          ],
          [
           "adult"
          ],
          [
           "adult"
          ],
          [
           "adult"
          ],
          [
           "adult"
          ],
          [
           "adult"
          ],
          [
           "adult"
          ],
          [
           "young"
          ],
          [
           "adult"
          ],
          [
           "adult"
          ],
          [
           "adult"
          ],
          [
           "adult"
          ],
          [
           "adult"
          ],
          [
           "young"
          ],
          [
           "adult"
          ],
          [
           "adult"
          ],
          [
           "adult"
          ],
          [
           "adult"
          ],
          [
           "adult"
          ],
          [
           "adult"
          ],
          [
           "adult"
          ],
          [
           "adult"
          ],
          [
           "adult"
          ],
          [
           "adult"
          ],
          [
           "adult"
          ],
          [
           "adult"
          ],
          [
           "adult"
          ],
          [
           "adult"
          ],
          [
           "adult"
          ],
          [
           "adult"
          ],
          [
           "adult"
          ],
          [
           "adult"
          ],
          [
           "adult"
          ],
          [
           "adult"
          ],
          [
           "adult"
          ],
          [
           "adult"
          ],
          [
           "adult"
          ],
          [
           "adult"
          ],
          [
           "young"
          ],
          [
           "adult"
          ],
          [
           "adult"
          ],
          [
           "adult"
          ],
          [
           "adult"
          ],
          [
           "adult"
          ],
          [
           "adult"
          ],
          [
           "adult"
          ],
          [
           "adult"
          ],
          [
           "adult"
          ],
          [
           "adult"
          ],
          [
           "adult"
          ],
          [
           "adult"
          ],
          [
           "adult"
          ],
          [
           "adult"
          ],
          [
           "adult"
          ],
          [
           "adult"
          ],
          [
           "adult"
          ],
          [
           "adult"
          ],
          [
           "adult"
          ],
          [
           "adult"
          ],
          [
           "adult"
          ],
          [
           "adult"
          ],
          [
           "adult"
          ],
          [
           "adult"
          ],
          [
           "adult"
          ],
          [
           "adult"
          ],
          [
           "adult"
          ],
          [
           "adult"
          ],
          [
           "adult"
          ],
          [
           "adult"
          ],
          [
           "adult"
          ],
          [
           "adult"
          ],
          [
           "adult"
          ],
          [
           "adult"
          ],
          [
           "adult"
          ],
          [
           "adult"
          ],
          [
           "adult"
          ],
          [
           "adult"
          ],
          [
           "adult"
          ],
          [
           "adult"
          ],
          [
           "adult"
          ],
          [
           "adult"
          ],
          [
           "adult"
          ],
          [
           "adult"
          ],
          [
           "adult"
          ],
          [
           "adult"
          ],
          [
           "adult"
          ],
          [
           "adult"
          ],
          [
           "adult"
          ],
          [
           "adult"
          ],
          [
           "adult"
          ],
          [
           "adult"
          ],
          [
           "adult"
          ],
          [
           "adult"
          ],
          [
           "adult"
          ],
          [
           "young"
          ],
          [
           "adult"
          ],
          [
           "adult"
          ],
          [
           "adult"
          ],
          [
           "adult"
          ],
          [
           "adult"
          ],
          [
           "adult"
          ],
          [
           "adult"
          ],
          [
           "adult"
          ],
          [
           "adult"
          ],
          [
           "adult"
          ],
          [
           "adult"
          ],
          [
           "adult"
          ],
          [
           "adult"
          ],
          [
           "adult"
          ],
          [
           "adult"
          ],
          [
           "adult"
          ],
          [
           "adult"
          ],
          [
           "adult"
          ],
          [
           "adult"
          ],
          [
           "adult"
          ],
          [
           "young"
          ],
          [
           "adult"
          ],
          [
           "adult"
          ],
          [
           "adult"
          ],
          [
           "adult"
          ],
          [
           "adult"
          ],
          [
           "adult"
          ],
          [
           "adult"
          ],
          [
           "adult"
          ],
          [
           "adult"
          ],
          [
           "adult"
          ],
          [
           "adult"
          ],
          [
           "adult"
          ],
          [
           "adult"
          ],
          [
           "adult"
          ],
          [
           "young"
          ],
          [
           "adult"
          ],
          [
           "young"
          ],
          [
           "adult"
          ],
          [
           "adult"
          ],
          [
           "adult"
          ],
          [
           "adult"
          ],
          [
           "adult"
          ],
          [
           "adult"
          ],
          [
           "adult"
          ],
          [
           "adult"
          ],
          [
           "adult"
          ],
          [
           "adult"
          ],
          [
           "adult"
          ],
          [
           "adult"
          ],
          [
           "adult"
          ],
          [
           "adult"
          ],
          [
           "young"
          ],
          [
           "adult"
          ],
          [
           "adult"
          ],
          [
           "adult"
          ],
          [
           "adult"
          ],
          [
           "adult"
          ],
          [
           "adult"
          ],
          [
           "adult"
          ],
          [
           "young"
          ],
          [
           "adult"
          ],
          [
           "adult"
          ],
          [
           "young"
          ],
          [
           "adult"
          ],
          [
           "adult"
          ],
          [
           "adult"
          ],
          [
           "adult"
          ],
          [
           "adult"
          ],
          [
           "adult"
          ],
          [
           "young"
          ],
          [
           "adult"
          ],
          [
           "adult"
          ],
          [
           "adult"
          ],
          [
           "adult"
          ],
          [
           "adult"
          ],
          [
           "adult"
          ],
          [
           "adult"
          ],
          [
           "adult"
          ],
          [
           "adult"
          ],
          [
           "adult"
          ],
          [
           "adult"
          ],
          [
           "adult"
          ],
          [
           "young"
          ],
          [
           "adult"
          ],
          [
           "adult"
          ],
          [
           "adult"
          ],
          [
           "adult"
          ],
          [
           "adult"
          ],
          [
           "adult"
          ],
          [
           "adult"
          ],
          [
           "adult"
          ],
          [
           "adult"
          ],
          [
           "adult"
          ],
          [
           "adult"
          ],
          [
           "young"
          ],
          [
           "adult"
          ],
          [
           "adult"
          ],
          [
           "adult"
          ],
          [
           "adult"
          ],
          [
           "adult"
          ],
          [
           "adult"
          ],
          [
           "adult"
          ],
          [
           "adult"
          ],
          [
           "adult"
          ],
          [
           "adult"
          ],
          [
           "adult"
          ],
          [
           "adult"
          ]
         ],
         "domain": {
          "x": [
           0,
           1
          ],
          "y": [
           0,
           1
          ]
         },
         "hovertemplate": "label=%{label}<br>color=%{customdata[0]}<extra></extra>",
         "labels": [
          "adult",
          "adult",
          "adult",
          "young",
          "adult",
          "adult",
          "adult",
          "adult",
          "adult",
          "young",
          "adult",
          "adult",
          "adult",
          "young",
          "adult",
          "adult",
          "young",
          "adult",
          "adult",
          "adult",
          "adult",
          "adult",
          "adult",
          "young",
          "adult",
          "adult",
          "adult",
          "adult",
          "adult",
          "adult",
          "adult",
          "adult",
          "adult",
          "adult",
          "adult",
          "adult",
          "adult",
          "adult",
          "adult",
          "young",
          "adult",
          "young",
          "adult",
          "adult",
          "adult",
          "adult",
          "adult",
          "adult",
          "adult",
          "adult",
          "adult",
          "adult",
          "adult",
          "adult",
          "adult",
          "young",
          "adult",
          "adult",
          "adult",
          "adult",
          "adult",
          "adult",
          "adult",
          "adult",
          "adult",
          "adult",
          "adult",
          "adult",
          "adult",
          "adult",
          "adult",
          "adult",
          "adult",
          "adult",
          "young",
          "young",
          "adult",
          "adult",
          "adult",
          "adult",
          "adult",
          "adult",
          "young",
          "adult",
          "adult",
          "adult",
          "adult",
          "adult",
          "adult",
          "adult",
          "adult",
          "adult",
          "adult",
          "adult",
          "adult",
          "adult",
          "adult",
          "adult",
          "adult",
          "adult",
          "adult",
          "adult",
          "adult",
          "young",
          "adult",
          "adult",
          "adult",
          "adult",
          "adult",
          "young",
          "adult",
          "adult",
          "adult",
          "adult",
          "adult",
          "adult",
          "adult",
          "adult",
          "adult",
          "adult",
          "adult",
          "adult",
          "adult",
          "adult",
          "adult",
          "adult",
          "adult",
          "adult",
          "adult",
          "adult",
          "adult",
          "adult",
          "adult",
          "adult",
          "young",
          "adult",
          "adult",
          "adult",
          "adult",
          "adult",
          "adult",
          "adult",
          "adult",
          "adult",
          "adult",
          "adult",
          "adult",
          "adult",
          "adult",
          "adult",
          "adult",
          "adult",
          "adult",
          "adult",
          "adult",
          "adult",
          "adult",
          "adult",
          "adult",
          "adult",
          "adult",
          "adult",
          "adult",
          "adult",
          "adult",
          "adult",
          "adult",
          "adult",
          "adult",
          "adult",
          "adult",
          "adult",
          "adult",
          "adult",
          "adult",
          "adult",
          "adult",
          "adult",
          "adult",
          "adult",
          "adult",
          "adult",
          "adult",
          "adult",
          "adult",
          "adult",
          "adult",
          "adult",
          "adult",
          "adult",
          "young",
          "adult",
          "adult",
          "adult",
          "adult",
          "adult",
          "adult",
          "adult",
          "adult",
          "adult",
          "adult",
          "adult",
          "adult",
          "adult",
          "adult",
          "adult",
          "adult",
          "adult",
          "adult",
          "adult",
          "adult",
          "young",
          "adult",
          "adult",
          "adult",
          "adult",
          "adult",
          "adult",
          "adult",
          "adult",
          "adult",
          "adult",
          "adult",
          "adult",
          "adult",
          "adult",
          "young",
          "adult",
          "young",
          "adult",
          "adult",
          "adult",
          "adult",
          "adult",
          "adult",
          "adult",
          "adult",
          "adult",
          "adult",
          "adult",
          "adult",
          "adult",
          "adult",
          "young",
          "adult",
          "adult",
          "adult",
          "adult",
          "adult",
          "adult",
          "adult",
          "young",
          "adult",
          "adult",
          "young",
          "adult",
          "adult",
          "adult",
          "adult",
          "adult",
          "adult",
          "young",
          "adult",
          "adult",
          "adult",
          "adult",
          "adult",
          "adult",
          "adult",
          "adult",
          "adult",
          "adult",
          "adult",
          "adult",
          "young",
          "adult",
          "adult",
          "adult",
          "adult",
          "adult",
          "adult",
          "adult",
          "adult",
          "adult",
          "adult",
          "adult",
          "young",
          "adult",
          "adult",
          "adult",
          "adult",
          "adult",
          "adult",
          "adult",
          "adult",
          "adult",
          "adult",
          "adult",
          "adult"
         ],
         "legendgroup": "",
         "marker": {
          "colors": [
           "#636efa",
           "#636efa",
           "#636efa",
           "#EF553B",
           "#636efa",
           "#636efa",
           "#636efa",
           "#636efa",
           "#636efa",
           "#EF553B",
           "#636efa",
           "#636efa",
           "#636efa",
           "#EF553B",
           "#636efa",
           "#636efa",
           "#EF553B",
           "#636efa",
           "#636efa",
           "#636efa",
           "#636efa",
           "#636efa",
           "#636efa",
           "#EF553B",
           "#636efa",
           "#636efa",
           "#636efa",
           "#636efa",
           "#636efa",
           "#636efa",
           "#636efa",
           "#636efa",
           "#636efa",
           "#636efa",
           "#636efa",
           "#636efa",
           "#636efa",
           "#636efa",
           "#636efa",
           "#EF553B",
           "#636efa",
           "#EF553B",
           "#636efa",
           "#636efa",
           "#636efa",
           "#636efa",
           "#636efa",
           "#636efa",
           "#636efa",
           "#636efa",
           "#636efa",
           "#636efa",
           "#636efa",
           "#636efa",
           "#636efa",
           "#EF553B",
           "#636efa",
           "#636efa",
           "#636efa",
           "#636efa",
           "#636efa",
           "#636efa",
           "#636efa",
           "#636efa",
           "#636efa",
           "#636efa",
           "#636efa",
           "#636efa",
           "#636efa",
           "#636efa",
           "#636efa",
           "#636efa",
           "#636efa",
           "#636efa",
           "#EF553B",
           "#EF553B",
           "#636efa",
           "#636efa",
           "#636efa",
           "#636efa",
           "#636efa",
           "#636efa",
           "#EF553B",
           "#636efa",
           "#636efa",
           "#636efa",
           "#636efa",
           "#636efa",
           "#636efa",
           "#636efa",
           "#636efa",
           "#636efa",
           "#636efa",
           "#636efa",
           "#636efa",
           "#636efa",
           "#636efa",
           "#636efa",
           "#636efa",
           "#636efa",
           "#636efa",
           "#636efa",
           "#636efa",
           "#EF553B",
           "#636efa",
           "#636efa",
           "#636efa",
           "#636efa",
           "#636efa",
           "#EF553B",
           "#636efa",
           "#636efa",
           "#636efa",
           "#636efa",
           "#636efa",
           "#636efa",
           "#636efa",
           "#636efa",
           "#636efa",
           "#636efa",
           "#636efa",
           "#636efa",
           "#636efa",
           "#636efa",
           "#636efa",
           "#636efa",
           "#636efa",
           "#636efa",
           "#636efa",
           "#636efa",
           "#636efa",
           "#636efa",
           "#636efa",
           "#636efa",
           "#EF553B",
           "#636efa",
           "#636efa",
           "#636efa",
           "#636efa",
           "#636efa",
           "#636efa",
           "#636efa",
           "#636efa",
           "#636efa",
           "#636efa",
           "#636efa",
           "#636efa",
           "#636efa",
           "#636efa",
           "#636efa",
           "#636efa",
           "#636efa",
           "#636efa",
           "#636efa",
           "#636efa",
           "#636efa",
           "#636efa",
           "#636efa",
           "#636efa",
           "#636efa",
           "#636efa",
           "#636efa",
           "#636efa",
           "#636efa",
           "#636efa",
           "#636efa",
           "#636efa",
           "#636efa",
           "#636efa",
           "#636efa",
           "#636efa",
           "#636efa",
           "#636efa",
           "#636efa",
           "#636efa",
           "#636efa",
           "#636efa",
           "#636efa",
           "#636efa",
           "#636efa",
           "#636efa",
           "#636efa",
           "#636efa",
           "#636efa",
           "#636efa",
           "#636efa",
           "#636efa",
           "#636efa",
           "#636efa",
           "#636efa",
           "#EF553B",
           "#636efa",
           "#636efa",
           "#636efa",
           "#636efa",
           "#636efa",
           "#636efa",
           "#636efa",
           "#636efa",
           "#636efa",
           "#636efa",
           "#636efa",
           "#636efa",
           "#636efa",
           "#636efa",
           "#636efa",
           "#636efa",
           "#636efa",
           "#636efa",
           "#636efa",
           "#636efa",
           "#EF553B",
           "#636efa",
           "#636efa",
           "#636efa",
           "#636efa",
           "#636efa",
           "#636efa",
           "#636efa",
           "#636efa",
           "#636efa",
           "#636efa",
           "#636efa",
           "#636efa",
           "#636efa",
           "#636efa",
           "#EF553B",
           "#636efa",
           "#EF553B",
           "#636efa",
           "#636efa",
           "#636efa",
           "#636efa",
           "#636efa",
           "#636efa",
           "#636efa",
           "#636efa",
           "#636efa",
           "#636efa",
           "#636efa",
           "#636efa",
           "#636efa",
           "#636efa",
           "#EF553B",
           "#636efa",
           "#636efa",
           "#636efa",
           "#636efa",
           "#636efa",
           "#636efa",
           "#636efa",
           "#EF553B",
           "#636efa",
           "#636efa",
           "#EF553B",
           "#636efa",
           "#636efa",
           "#636efa",
           "#636efa",
           "#636efa",
           "#636efa",
           "#EF553B",
           "#636efa",
           "#636efa",
           "#636efa",
           "#636efa",
           "#636efa",
           "#636efa",
           "#636efa",
           "#636efa",
           "#636efa",
           "#636efa",
           "#636efa",
           "#636efa",
           "#EF553B",
           "#636efa",
           "#636efa",
           "#636efa",
           "#636efa",
           "#636efa",
           "#636efa",
           "#636efa",
           "#636efa",
           "#636efa",
           "#636efa",
           "#636efa",
           "#EF553B",
           "#636efa",
           "#636efa",
           "#636efa",
           "#636efa",
           "#636efa",
           "#636efa",
           "#636efa",
           "#636efa",
           "#636efa",
           "#636efa",
           "#636efa",
           "#636efa"
          ]
         },
         "name": "",
         "showlegend": true,
         "type": "pie"
        }
       ],
       "layout": {
        "legend": {
         "tracegroupgap": 0
        },
        "template": {
         "data": {
          "bar": [
           {
            "error_x": {
             "color": "#2a3f5f"
            },
            "error_y": {
             "color": "#2a3f5f"
            },
            "marker": {
             "line": {
              "color": "#E5ECF6",
              "width": 0.5
             },
             "pattern": {
              "fillmode": "overlay",
              "size": 10,
              "solidity": 0.2
             }
            },
            "type": "bar"
           }
          ],
          "barpolar": [
           {
            "marker": {
             "line": {
              "color": "#E5ECF6",
              "width": 0.5
             },
             "pattern": {
              "fillmode": "overlay",
              "size": 10,
              "solidity": 0.2
             }
            },
            "type": "barpolar"
           }
          ],
          "carpet": [
           {
            "aaxis": {
             "endlinecolor": "#2a3f5f",
             "gridcolor": "white",
             "linecolor": "white",
             "minorgridcolor": "white",
             "startlinecolor": "#2a3f5f"
            },
            "baxis": {
             "endlinecolor": "#2a3f5f",
             "gridcolor": "white",
             "linecolor": "white",
             "minorgridcolor": "white",
             "startlinecolor": "#2a3f5f"
            },
            "type": "carpet"
           }
          ],
          "choropleth": [
           {
            "colorbar": {
             "outlinewidth": 0,
             "ticks": ""
            },
            "type": "choropleth"
           }
          ],
          "contour": [
           {
            "colorbar": {
             "outlinewidth": 0,
             "ticks": ""
            },
            "colorscale": [
             [
              0,
              "#0d0887"
             ],
             [
              0.1111111111111111,
              "#46039f"
             ],
             [
              0.2222222222222222,
              "#7201a8"
             ],
             [
              0.3333333333333333,
              "#9c179e"
             ],
             [
              0.4444444444444444,
              "#bd3786"
             ],
             [
              0.5555555555555556,
              "#d8576b"
             ],
             [
              0.6666666666666666,
              "#ed7953"
             ],
             [
              0.7777777777777778,
              "#fb9f3a"
             ],
             [
              0.8888888888888888,
              "#fdca26"
             ],
             [
              1,
              "#f0f921"
             ]
            ],
            "type": "contour"
           }
          ],
          "contourcarpet": [
           {
            "colorbar": {
             "outlinewidth": 0,
             "ticks": ""
            },
            "type": "contourcarpet"
           }
          ],
          "heatmap": [
           {
            "colorbar": {
             "outlinewidth": 0,
             "ticks": ""
            },
            "colorscale": [
             [
              0,
              "#0d0887"
             ],
             [
              0.1111111111111111,
              "#46039f"
             ],
             [
              0.2222222222222222,
              "#7201a8"
             ],
             [
              0.3333333333333333,
              "#9c179e"
             ],
             [
              0.4444444444444444,
              "#bd3786"
             ],
             [
              0.5555555555555556,
              "#d8576b"
             ],
             [
              0.6666666666666666,
              "#ed7953"
             ],
             [
              0.7777777777777778,
              "#fb9f3a"
             ],
             [
              0.8888888888888888,
              "#fdca26"
             ],
             [
              1,
              "#f0f921"
             ]
            ],
            "type": "heatmap"
           }
          ],
          "heatmapgl": [
           {
            "colorbar": {
             "outlinewidth": 0,
             "ticks": ""
            },
            "colorscale": [
             [
              0,
              "#0d0887"
             ],
             [
              0.1111111111111111,
              "#46039f"
             ],
             [
              0.2222222222222222,
              "#7201a8"
             ],
             [
              0.3333333333333333,
              "#9c179e"
             ],
             [
              0.4444444444444444,
              "#bd3786"
             ],
             [
              0.5555555555555556,
              "#d8576b"
             ],
             [
              0.6666666666666666,
              "#ed7953"
             ],
             [
              0.7777777777777778,
              "#fb9f3a"
             ],
             [
              0.8888888888888888,
              "#fdca26"
             ],
             [
              1,
              "#f0f921"
             ]
            ],
            "type": "heatmapgl"
           }
          ],
          "histogram": [
           {
            "marker": {
             "pattern": {
              "fillmode": "overlay",
              "size": 10,
              "solidity": 0.2
             }
            },
            "type": "histogram"
           }
          ],
          "histogram2d": [
           {
            "colorbar": {
             "outlinewidth": 0,
             "ticks": ""
            },
            "colorscale": [
             [
              0,
              "#0d0887"
             ],
             [
              0.1111111111111111,
              "#46039f"
             ],
             [
              0.2222222222222222,
              "#7201a8"
             ],
             [
              0.3333333333333333,
              "#9c179e"
             ],
             [
              0.4444444444444444,
              "#bd3786"
             ],
             [
              0.5555555555555556,
              "#d8576b"
             ],
             [
              0.6666666666666666,
              "#ed7953"
             ],
             [
              0.7777777777777778,
              "#fb9f3a"
             ],
             [
              0.8888888888888888,
              "#fdca26"
             ],
             [
              1,
              "#f0f921"
             ]
            ],
            "type": "histogram2d"
           }
          ],
          "histogram2dcontour": [
           {
            "colorbar": {
             "outlinewidth": 0,
             "ticks": ""
            },
            "colorscale": [
             [
              0,
              "#0d0887"
             ],
             [
              0.1111111111111111,
              "#46039f"
             ],
             [
              0.2222222222222222,
              "#7201a8"
             ],
             [
              0.3333333333333333,
              "#9c179e"
             ],
             [
              0.4444444444444444,
              "#bd3786"
             ],
             [
              0.5555555555555556,
              "#d8576b"
             ],
             [
              0.6666666666666666,
              "#ed7953"
             ],
             [
              0.7777777777777778,
              "#fb9f3a"
             ],
             [
              0.8888888888888888,
              "#fdca26"
             ],
             [
              1,
              "#f0f921"
             ]
            ],
            "type": "histogram2dcontour"
           }
          ],
          "mesh3d": [
           {
            "colorbar": {
             "outlinewidth": 0,
             "ticks": ""
            },
            "type": "mesh3d"
           }
          ],
          "parcoords": [
           {
            "line": {
             "colorbar": {
              "outlinewidth": 0,
              "ticks": ""
             }
            },
            "type": "parcoords"
           }
          ],
          "pie": [
           {
            "automargin": true,
            "type": "pie"
           }
          ],
          "scatter": [
           {
            "marker": {
             "colorbar": {
              "outlinewidth": 0,
              "ticks": ""
             }
            },
            "type": "scatter"
           }
          ],
          "scatter3d": [
           {
            "line": {
             "colorbar": {
              "outlinewidth": 0,
              "ticks": ""
             }
            },
            "marker": {
             "colorbar": {
              "outlinewidth": 0,
              "ticks": ""
             }
            },
            "type": "scatter3d"
           }
          ],
          "scattercarpet": [
           {
            "marker": {
             "colorbar": {
              "outlinewidth": 0,
              "ticks": ""
             }
            },
            "type": "scattercarpet"
           }
          ],
          "scattergeo": [
           {
            "marker": {
             "colorbar": {
              "outlinewidth": 0,
              "ticks": ""
             }
            },
            "type": "scattergeo"
           }
          ],
          "scattergl": [
           {
            "marker": {
             "colorbar": {
              "outlinewidth": 0,
              "ticks": ""
             }
            },
            "type": "scattergl"
           }
          ],
          "scattermapbox": [
           {
            "marker": {
             "colorbar": {
              "outlinewidth": 0,
              "ticks": ""
             }
            },
            "type": "scattermapbox"
           }
          ],
          "scatterpolar": [
           {
            "marker": {
             "colorbar": {
              "outlinewidth": 0,
              "ticks": ""
             }
            },
            "type": "scatterpolar"
           }
          ],
          "scatterpolargl": [
           {
            "marker": {
             "colorbar": {
              "outlinewidth": 0,
              "ticks": ""
             }
            },
            "type": "scatterpolargl"
           }
          ],
          "scatterternary": [
           {
            "marker": {
             "colorbar": {
              "outlinewidth": 0,
              "ticks": ""
             }
            },
            "type": "scatterternary"
           }
          ],
          "surface": [
           {
            "colorbar": {
             "outlinewidth": 0,
             "ticks": ""
            },
            "colorscale": [
             [
              0,
              "#0d0887"
             ],
             [
              0.1111111111111111,
              "#46039f"
             ],
             [
              0.2222222222222222,
              "#7201a8"
             ],
             [
              0.3333333333333333,
              "#9c179e"
             ],
             [
              0.4444444444444444,
              "#bd3786"
             ],
             [
              0.5555555555555556,
              "#d8576b"
             ],
             [
              0.6666666666666666,
              "#ed7953"
             ],
             [
              0.7777777777777778,
              "#fb9f3a"
             ],
             [
              0.8888888888888888,
              "#fdca26"
             ],
             [
              1,
              "#f0f921"
             ]
            ],
            "type": "surface"
           }
          ],
          "table": [
           {
            "cells": {
             "fill": {
              "color": "#EBF0F8"
             },
             "line": {
              "color": "white"
             }
            },
            "header": {
             "fill": {
              "color": "#C8D4E3"
             },
             "line": {
              "color": "white"
             }
            },
            "type": "table"
           }
          ]
         },
         "layout": {
          "annotationdefaults": {
           "arrowcolor": "#2a3f5f",
           "arrowhead": 0,
           "arrowwidth": 1
          },
          "autotypenumbers": "strict",
          "coloraxis": {
           "colorbar": {
            "outlinewidth": 0,
            "ticks": ""
           }
          },
          "colorscale": {
           "diverging": [
            [
             0,
             "#8e0152"
            ],
            [
             0.1,
             "#c51b7d"
            ],
            [
             0.2,
             "#de77ae"
            ],
            [
             0.3,
             "#f1b6da"
            ],
            [
             0.4,
             "#fde0ef"
            ],
            [
             0.5,
             "#f7f7f7"
            ],
            [
             0.6,
             "#e6f5d0"
            ],
            [
             0.7,
             "#b8e186"
            ],
            [
             0.8,
             "#7fbc41"
            ],
            [
             0.9,
             "#4d9221"
            ],
            [
             1,
             "#276419"
            ]
           ],
           "sequential": [
            [
             0,
             "#0d0887"
            ],
            [
             0.1111111111111111,
             "#46039f"
            ],
            [
             0.2222222222222222,
             "#7201a8"
            ],
            [
             0.3333333333333333,
             "#9c179e"
            ],
            [
             0.4444444444444444,
             "#bd3786"
            ],
            [
             0.5555555555555556,
             "#d8576b"
            ],
            [
             0.6666666666666666,
             "#ed7953"
            ],
            [
             0.7777777777777778,
             "#fb9f3a"
            ],
            [
             0.8888888888888888,
             "#fdca26"
            ],
            [
             1,
             "#f0f921"
            ]
           ],
           "sequentialminus": [
            [
             0,
             "#0d0887"
            ],
            [
             0.1111111111111111,
             "#46039f"
            ],
            [
             0.2222222222222222,
             "#7201a8"
            ],
            [
             0.3333333333333333,
             "#9c179e"
            ],
            [
             0.4444444444444444,
             "#bd3786"
            ],
            [
             0.5555555555555556,
             "#d8576b"
            ],
            [
             0.6666666666666666,
             "#ed7953"
            ],
            [
             0.7777777777777778,
             "#fb9f3a"
            ],
            [
             0.8888888888888888,
             "#fdca26"
            ],
            [
             1,
             "#f0f921"
            ]
           ]
          },
          "colorway": [
           "#636efa",
           "#EF553B",
           "#00cc96",
           "#ab63fa",
           "#FFA15A",
           "#19d3f3",
           "#FF6692",
           "#B6E880",
           "#FF97FF",
           "#FECB52"
          ],
          "font": {
           "color": "#2a3f5f"
          },
          "geo": {
           "bgcolor": "white",
           "lakecolor": "white",
           "landcolor": "#E5ECF6",
           "showlakes": true,
           "showland": true,
           "subunitcolor": "white"
          },
          "hoverlabel": {
           "align": "left"
          },
          "hovermode": "closest",
          "mapbox": {
           "style": "light"
          },
          "paper_bgcolor": "white",
          "plot_bgcolor": "#E5ECF6",
          "polar": {
           "angularaxis": {
            "gridcolor": "white",
            "linecolor": "white",
            "ticks": ""
           },
           "bgcolor": "#E5ECF6",
           "radialaxis": {
            "gridcolor": "white",
            "linecolor": "white",
            "ticks": ""
           }
          },
          "scene": {
           "xaxis": {
            "backgroundcolor": "#E5ECF6",
            "gridcolor": "white",
            "gridwidth": 2,
            "linecolor": "white",
            "showbackground": true,
            "ticks": "",
            "zerolinecolor": "white"
           },
           "yaxis": {
            "backgroundcolor": "#E5ECF6",
            "gridcolor": "white",
            "gridwidth": 2,
            "linecolor": "white",
            "showbackground": true,
            "ticks": "",
            "zerolinecolor": "white"
           },
           "zaxis": {
            "backgroundcolor": "#E5ECF6",
            "gridcolor": "white",
            "gridwidth": 2,
            "linecolor": "white",
            "showbackground": true,
            "ticks": "",
            "zerolinecolor": "white"
           }
          },
          "shapedefaults": {
           "line": {
            "color": "#2a3f5f"
           }
          },
          "ternary": {
           "aaxis": {
            "gridcolor": "white",
            "linecolor": "white",
            "ticks": ""
           },
           "baxis": {
            "gridcolor": "white",
            "linecolor": "white",
            "ticks": ""
           },
           "bgcolor": "#E5ECF6",
           "caxis": {
            "gridcolor": "white",
            "linecolor": "white",
            "ticks": ""
           }
          },
          "title": {
           "x": 0.05
          },
          "xaxis": {
           "automargin": true,
           "gridcolor": "white",
           "linecolor": "white",
           "ticks": "",
           "title": {
            "standoff": 15
           },
           "zerolinecolor": "white",
           "zerolinewidth": 2
          },
          "yaxis": {
           "automargin": true,
           "gridcolor": "white",
           "linecolor": "white",
           "ticks": "",
           "title": {
            "standoff": 15
           },
           "zerolinecolor": "white",
           "zerolinewidth": 2
          }
         }
        },
        "title": {
         "text": "Percentage rate of age"
        }
       }
      }
     },
     "metadata": {},
     "output_type": "display_data"
    }
   ],
   "source": [
    "fig = px.pie(names=df['age'],color=df['age'],\n",
    "                            title='Percentage rate of age')\n",
    "fig.show()"
   ]
  },
  {
   "cell_type": "code",
   "execution_count": 15,
   "metadata": {},
   "outputs": [
    {
     "data": {
      "application/vnd.plotly.v1+json": {
       "config": {
        "plotlyServerURL": "https://plot.ly"
       },
       "data": [
        {
         "customdata": [
          [
           "extreme_pain"
          ],
          [
           "mild_pain"
          ],
          [
           "mild_pain"
          ],
          [
           "depressed"
          ],
          [
           "mild_pain"
          ],
          [
           "depressed"
          ],
          [
           "mild_pain"
          ],
          [
           "mild_pain"
          ],
          [
           "severe_pain"
          ],
          [
           "extreme_pain"
          ],
          [
           "mild_pain"
          ],
          [
           "depressed"
          ],
          [
           "mild_pain"
          ],
          [
           "alert"
          ],
          [
           "mild_pain"
          ],
          [
           "extreme_pain"
          ],
          [
           "severe_pain"
          ],
          [
           "mild_pain"
          ],
          [
           "depressed"
          ],
          [
           "mild_pain"
          ],
          [
           "extreme_pain"
          ],
          [
           "alert"
          ],
          [
           "depressed"
          ],
          [
           "depressed"
          ],
          [
           "mild_pain"
          ],
          [
           "mild_pain"
          ],
          [
           "mild_pain"
          ],
          [
           "mild_pain"
          ],
          [
           "mild_pain"
          ],
          [
           "alert"
          ],
          [
           "extreme_pain"
          ],
          [
           "depressed"
          ],
          [
           "mild_pain"
          ],
          [
           "mild_pain"
          ],
          [
           "extreme_pain"
          ],
          [
           "severe_pain"
          ],
          [
           "mild_pain"
          ],
          [
           "extreme_pain"
          ],
          [
           "mild_pain"
          ],
          [
           "mild_pain"
          ],
          [
           "extreme_pain"
          ],
          [
           "mild_pain"
          ],
          [
           "mild_pain"
          ],
          [
           "severe_pain"
          ],
          [
           "severe_pain"
          ],
          [
           "extreme_pain"
          ],
          [
           "extreme_pain"
          ],
          [
           "alert"
          ],
          [
           "depressed"
          ],
          [
           "severe_pain"
          ],
          [
           "alert"
          ],
          [
           "mild_pain"
          ],
          [
           "alert"
          ],
          [
           "mild_pain"
          ],
          [
           "depressed"
          ],
          [
           "mild_pain"
          ],
          [
           "mild_pain"
          ],
          [
           "extreme_pain"
          ],
          [
           "extreme_pain"
          ],
          [
           "extreme_pain"
          ],
          [
           "depressed"
          ],
          [
           "alert"
          ],
          [
           "mild_pain"
          ],
          [
           "depressed"
          ],
          [
           "mild_pain"
          ],
          [
           "mild_pain"
          ],
          [
           "mild_pain"
          ],
          [
           "alert"
          ],
          [
           "mild_pain"
          ],
          [
           "alert"
          ],
          [
           "mild_pain"
          ],
          [
           "alert"
          ],
          [
           "mild_pain"
          ],
          [
           "severe_pain"
          ],
          [
           "mild_pain"
          ],
          [
           "depressed"
          ],
          [
           "mild_pain"
          ],
          [
           "alert"
          ],
          [
           "extreme_pain"
          ],
          [
           "mild_pain"
          ],
          [
           "severe_pain"
          ],
          [
           "depressed"
          ],
          [
           "mild_pain"
          ],
          [
           "extreme_pain"
          ],
          [
           "depressed"
          ],
          [
           "mild_pain"
          ],
          [
           "extreme_pain"
          ],
          [
           "mild_pain"
          ],
          [
           "mild_pain"
          ],
          [
           "alert"
          ],
          [
           "depressed"
          ],
          [
           "depressed"
          ],
          [
           "alert"
          ],
          [
           "extreme_pain"
          ],
          [
           "mild_pain"
          ],
          [
           "mild_pain"
          ],
          [
           "mild_pain"
          ],
          [
           "depressed"
          ],
          [
           "alert"
          ],
          [
           "depressed"
          ],
          [
           "alert"
          ],
          [
           "extreme_pain"
          ],
          [
           "depressed"
          ],
          [
           "mild_pain"
          ],
          [
           "severe_pain"
          ],
          [
           "depressed"
          ],
          [
           "mild_pain"
          ],
          [
           "alert"
          ],
          [
           "severe_pain"
          ],
          [
           "mild_pain"
          ],
          [
           "depressed"
          ],
          [
           "alert"
          ],
          [
           "alert"
          ],
          [
           "mild_pain"
          ],
          [
           "extreme_pain"
          ],
          [
           "mild_pain"
          ],
          [
           "mild_pain"
          ],
          [
           "mild_pain"
          ],
          [
           "extreme_pain"
          ],
          [
           "alert"
          ],
          [
           "depressed"
          ],
          [
           "severe_pain"
          ],
          [
           "mild_pain"
          ],
          [
           "severe_pain"
          ],
          [
           "alert"
          ],
          [
           "mild_pain"
          ],
          [
           "extreme_pain"
          ],
          [
           "severe_pain"
          ],
          [
           "depressed"
          ],
          [
           "mild_pain"
          ],
          [
           "mild_pain"
          ],
          [
           "mild_pain"
          ],
          [
           "depressed"
          ],
          [
           "extreme_pain"
          ],
          [
           "extreme_pain"
          ],
          [
           "extreme_pain"
          ],
          [
           "alert"
          ],
          [
           "alert"
          ],
          [
           "mild_pain"
          ],
          [
           "depressed"
          ],
          [
           "mild_pain"
          ],
          [
           "extreme_pain"
          ],
          [
           "alert"
          ],
          [
           "depressed"
          ],
          [
           "depressed"
          ],
          [
           "mild_pain"
          ],
          [
           "mild_pain"
          ],
          [
           "depressed"
          ],
          [
           "alert"
          ],
          [
           "depressed"
          ],
          [
           "severe_pain"
          ],
          [
           "mild_pain"
          ],
          [
           "alert"
          ],
          [
           "mild_pain"
          ],
          [
           "alert"
          ],
          [
           "mild_pain"
          ],
          [
           "mild_pain"
          ],
          [
           "mild_pain"
          ],
          [
           "depressed"
          ],
          [
           "severe_pain"
          ],
          [
           "mild_pain"
          ],
          [
           "mild_pain"
          ],
          [
           "extreme_pain"
          ],
          [
           "mild_pain"
          ],
          [
           "mild_pain"
          ],
          [
           "mild_pain"
          ],
          [
           "mild_pain"
          ],
          [
           "depressed"
          ],
          [
           "extreme_pain"
          ],
          [
           "mild_pain"
          ],
          [
           "mild_pain"
          ],
          [
           "depressed"
          ],
          [
           "depressed"
          ],
          [
           "severe_pain"
          ],
          [
           "mild_pain"
          ],
          [
           "mild_pain"
          ],
          [
           "severe_pain"
          ],
          [
           "extreme_pain"
          ],
          [
           "severe_pain"
          ],
          [
           "severe_pain"
          ],
          [
           "mild_pain"
          ],
          [
           "extreme_pain"
          ],
          [
           "depressed"
          ],
          [
           "alert"
          ],
          [
           "mild_pain"
          ],
          [
           "mild_pain"
          ],
          [
           "mild_pain"
          ],
          [
           "mild_pain"
          ],
          [
           "depressed"
          ],
          [
           "mild_pain"
          ],
          [
           "severe_pain"
          ],
          [
           "mild_pain"
          ],
          [
           "severe_pain"
          ],
          [
           "depressed"
          ],
          [
           "mild_pain"
          ],
          [
           "depressed"
          ],
          [
           "depressed"
          ],
          [
           "alert"
          ],
          [
           "depressed"
          ],
          [
           "mild_pain"
          ],
          [
           "severe_pain"
          ],
          [
           "mild_pain"
          ],
          [
           "depressed"
          ],
          [
           "severe_pain"
          ],
          [
           "severe_pain"
          ],
          [
           "severe_pain"
          ],
          [
           "mild_pain"
          ],
          [
           "mild_pain"
          ],
          [
           "mild_pain"
          ],
          [
           "depressed"
          ],
          [
           "depressed"
          ],
          [
           "mild_pain"
          ],
          [
           "mild_pain"
          ],
          [
           "alert"
          ],
          [
           "alert"
          ],
          [
           "mild_pain"
          ],
          [
           "mild_pain"
          ],
          [
           "depressed"
          ],
          [
           "mild_pain"
          ],
          [
           "extreme_pain"
          ],
          [
           "depressed"
          ],
          [
           "depressed"
          ],
          [
           "mild_pain"
          ],
          [
           "mild_pain"
          ],
          [
           "alert"
          ],
          [
           "depressed"
          ],
          [
           "mild_pain"
          ],
          [
           "extreme_pain"
          ],
          [
           "mild_pain"
          ],
          [
           "severe_pain"
          ],
          [
           "extreme_pain"
          ],
          [
           "mild_pain"
          ],
          [
           "mild_pain"
          ],
          [
           "mild_pain"
          ],
          [
           "severe_pain"
          ],
          [
           "mild_pain"
          ],
          [
           "mild_pain"
          ],
          [
           "mild_pain"
          ],
          [
           "extreme_pain"
          ],
          [
           "extreme_pain"
          ],
          [
           "alert"
          ],
          [
           "extreme_pain"
          ],
          [
           "mild_pain"
          ],
          [
           "depressed"
          ],
          [
           "extreme_pain"
          ],
          [
           "severe_pain"
          ],
          [
           "extreme_pain"
          ],
          [
           "severe_pain"
          ],
          [
           "mild_pain"
          ],
          [
           "depressed"
          ],
          [
           "alert"
          ],
          [
           "depressed"
          ],
          [
           "extreme_pain"
          ],
          [
           "severe_pain"
          ],
          [
           "severe_pain"
          ],
          [
           "depressed"
          ],
          [
           "mild_pain"
          ],
          [
           "depressed"
          ],
          [
           "depressed"
          ],
          [
           "severe_pain"
          ],
          [
           "alert"
          ],
          [
           "mild_pain"
          ],
          [
           "severe_pain"
          ],
          [
           "mild_pain"
          ],
          [
           "mild_pain"
          ],
          [
           "mild_pain"
          ],
          [
           "depressed"
          ],
          [
           "mild_pain"
          ],
          [
           "mild_pain"
          ],
          [
           "mild_pain"
          ],
          [
           "extreme_pain"
          ],
          [
           "extreme_pain"
          ],
          [
           "extreme_pain"
          ],
          [
           "mild_pain"
          ],
          [
           "extreme_pain"
          ],
          [
           "severe_pain"
          ],
          [
           "alert"
          ],
          [
           "alert"
          ],
          [
           "depressed"
          ],
          [
           "alert"
          ],
          [
           "depressed"
          ],
          [
           "depressed"
          ],
          [
           "mild_pain"
          ],
          [
           "mild_pain"
          ],
          [
           "mild_pain"
          ],
          [
           "severe_pain"
          ],
          [
           "mild_pain"
          ],
          [
           "mild_pain"
          ],
          [
           "mild_pain"
          ],
          [
           "alert"
          ],
          [
           "depressed"
          ],
          [
           "severe_pain"
          ],
          [
           "mild_pain"
          ],
          [
           "mild_pain"
          ],
          [
           "mild_pain"
          ],
          [
           "mild_pain"
          ],
          [
           "mild_pain"
          ],
          [
           "mild_pain"
          ],
          [
           "mild_pain"
          ]
         ],
         "domain": {
          "x": [
           0,
           1
          ],
          "y": [
           0,
           1
          ]
         },
         "hovertemplate": "label=%{label}<br>color=%{customdata[0]}<extra></extra>",
         "labels": [
          "extreme_pain",
          "mild_pain",
          "mild_pain",
          "depressed",
          "mild_pain",
          "depressed",
          "mild_pain",
          "mild_pain",
          "severe_pain",
          "extreme_pain",
          "mild_pain",
          "depressed",
          "mild_pain",
          "alert",
          "mild_pain",
          "extreme_pain",
          "severe_pain",
          "mild_pain",
          "depressed",
          "mild_pain",
          "extreme_pain",
          "alert",
          "depressed",
          "depressed",
          "mild_pain",
          "mild_pain",
          "mild_pain",
          "mild_pain",
          "mild_pain",
          "alert",
          "extreme_pain",
          "depressed",
          "mild_pain",
          "mild_pain",
          "extreme_pain",
          "severe_pain",
          "mild_pain",
          "extreme_pain",
          "mild_pain",
          "mild_pain",
          "extreme_pain",
          "mild_pain",
          "mild_pain",
          "severe_pain",
          "severe_pain",
          "extreme_pain",
          "extreme_pain",
          "alert",
          "depressed",
          "severe_pain",
          "alert",
          "mild_pain",
          "alert",
          "mild_pain",
          "depressed",
          "mild_pain",
          "mild_pain",
          "extreme_pain",
          "extreme_pain",
          "extreme_pain",
          "depressed",
          "alert",
          "mild_pain",
          "depressed",
          "mild_pain",
          "mild_pain",
          "mild_pain",
          "alert",
          "mild_pain",
          "alert",
          "mild_pain",
          "alert",
          "mild_pain",
          "severe_pain",
          "mild_pain",
          "depressed",
          "mild_pain",
          "alert",
          "extreme_pain",
          "mild_pain",
          "severe_pain",
          "depressed",
          "mild_pain",
          "extreme_pain",
          "depressed",
          "mild_pain",
          "extreme_pain",
          "mild_pain",
          "mild_pain",
          "alert",
          "depressed",
          "depressed",
          "alert",
          "extreme_pain",
          "mild_pain",
          "mild_pain",
          "mild_pain",
          "depressed",
          "alert",
          "depressed",
          "alert",
          "extreme_pain",
          "depressed",
          "mild_pain",
          "severe_pain",
          "depressed",
          "mild_pain",
          "alert",
          "severe_pain",
          "mild_pain",
          "depressed",
          "alert",
          "alert",
          "mild_pain",
          "extreme_pain",
          "mild_pain",
          "mild_pain",
          "mild_pain",
          "extreme_pain",
          "alert",
          "depressed",
          "severe_pain",
          "mild_pain",
          "severe_pain",
          "alert",
          "mild_pain",
          "extreme_pain",
          "severe_pain",
          "depressed",
          "mild_pain",
          "mild_pain",
          "mild_pain",
          "depressed",
          "extreme_pain",
          "extreme_pain",
          "extreme_pain",
          "alert",
          "alert",
          "mild_pain",
          "depressed",
          "mild_pain",
          "extreme_pain",
          "alert",
          "depressed",
          "depressed",
          "mild_pain",
          "mild_pain",
          "depressed",
          "alert",
          "depressed",
          "severe_pain",
          "mild_pain",
          "alert",
          "mild_pain",
          "alert",
          "mild_pain",
          "mild_pain",
          "mild_pain",
          "depressed",
          "severe_pain",
          "mild_pain",
          "mild_pain",
          "extreme_pain",
          "mild_pain",
          "mild_pain",
          "mild_pain",
          "mild_pain",
          "depressed",
          "extreme_pain",
          "mild_pain",
          "mild_pain",
          "depressed",
          "depressed",
          "severe_pain",
          "mild_pain",
          "mild_pain",
          "severe_pain",
          "extreme_pain",
          "severe_pain",
          "severe_pain",
          "mild_pain",
          "extreme_pain",
          "depressed",
          "alert",
          "mild_pain",
          "mild_pain",
          "mild_pain",
          "mild_pain",
          "depressed",
          "mild_pain",
          "severe_pain",
          "mild_pain",
          "severe_pain",
          "depressed",
          "mild_pain",
          "depressed",
          "depressed",
          "alert",
          "depressed",
          "mild_pain",
          "severe_pain",
          "mild_pain",
          "depressed",
          "severe_pain",
          "severe_pain",
          "severe_pain",
          "mild_pain",
          "mild_pain",
          "mild_pain",
          "depressed",
          "depressed",
          "mild_pain",
          "mild_pain",
          "alert",
          "alert",
          "mild_pain",
          "mild_pain",
          "depressed",
          "mild_pain",
          "extreme_pain",
          "depressed",
          "depressed",
          "mild_pain",
          "mild_pain",
          "alert",
          "depressed",
          "mild_pain",
          "extreme_pain",
          "mild_pain",
          "severe_pain",
          "extreme_pain",
          "mild_pain",
          "mild_pain",
          "mild_pain",
          "severe_pain",
          "mild_pain",
          "mild_pain",
          "mild_pain",
          "extreme_pain",
          "extreme_pain",
          "alert",
          "extreme_pain",
          "mild_pain",
          "depressed",
          "extreme_pain",
          "severe_pain",
          "extreme_pain",
          "severe_pain",
          "mild_pain",
          "depressed",
          "alert",
          "depressed",
          "extreme_pain",
          "severe_pain",
          "severe_pain",
          "depressed",
          "mild_pain",
          "depressed",
          "depressed",
          "severe_pain",
          "alert",
          "mild_pain",
          "severe_pain",
          "mild_pain",
          "mild_pain",
          "mild_pain",
          "depressed",
          "mild_pain",
          "mild_pain",
          "mild_pain",
          "extreme_pain",
          "extreme_pain",
          "extreme_pain",
          "mild_pain",
          "extreme_pain",
          "severe_pain",
          "alert",
          "alert",
          "depressed",
          "alert",
          "depressed",
          "depressed",
          "mild_pain",
          "mild_pain",
          "mild_pain",
          "severe_pain",
          "mild_pain",
          "mild_pain",
          "mild_pain",
          "alert",
          "depressed",
          "severe_pain",
          "mild_pain",
          "mild_pain",
          "mild_pain",
          "mild_pain",
          "mild_pain",
          "mild_pain",
          "mild_pain"
         ],
         "legendgroup": "",
         "marker": {
          "colors": [
           "#636efa",
           "#EF553B",
           "#EF553B",
           "#00cc96",
           "#EF553B",
           "#00cc96",
           "#EF553B",
           "#EF553B",
           "#ab63fa",
           "#636efa",
           "#EF553B",
           "#00cc96",
           "#EF553B",
           "#FFA15A",
           "#EF553B",
           "#636efa",
           "#ab63fa",
           "#EF553B",
           "#00cc96",
           "#EF553B",
           "#636efa",
           "#FFA15A",
           "#00cc96",
           "#00cc96",
           "#EF553B",
           "#EF553B",
           "#EF553B",
           "#EF553B",
           "#EF553B",
           "#FFA15A",
           "#636efa",
           "#00cc96",
           "#EF553B",
           "#EF553B",
           "#636efa",
           "#ab63fa",
           "#EF553B",
           "#636efa",
           "#EF553B",
           "#EF553B",
           "#636efa",
           "#EF553B",
           "#EF553B",
           "#ab63fa",
           "#ab63fa",
           "#636efa",
           "#636efa",
           "#FFA15A",
           "#00cc96",
           "#ab63fa",
           "#FFA15A",
           "#EF553B",
           "#FFA15A",
           "#EF553B",
           "#00cc96",
           "#EF553B",
           "#EF553B",
           "#636efa",
           "#636efa",
           "#636efa",
           "#00cc96",
           "#FFA15A",
           "#EF553B",
           "#00cc96",
           "#EF553B",
           "#EF553B",
           "#EF553B",
           "#FFA15A",
           "#EF553B",
           "#FFA15A",
           "#EF553B",
           "#FFA15A",
           "#EF553B",
           "#ab63fa",
           "#EF553B",
           "#00cc96",
           "#EF553B",
           "#FFA15A",
           "#636efa",
           "#EF553B",
           "#ab63fa",
           "#00cc96",
           "#EF553B",
           "#636efa",
           "#00cc96",
           "#EF553B",
           "#636efa",
           "#EF553B",
           "#EF553B",
           "#FFA15A",
           "#00cc96",
           "#00cc96",
           "#FFA15A",
           "#636efa",
           "#EF553B",
           "#EF553B",
           "#EF553B",
           "#00cc96",
           "#FFA15A",
           "#00cc96",
           "#FFA15A",
           "#636efa",
           "#00cc96",
           "#EF553B",
           "#ab63fa",
           "#00cc96",
           "#EF553B",
           "#FFA15A",
           "#ab63fa",
           "#EF553B",
           "#00cc96",
           "#FFA15A",
           "#FFA15A",
           "#EF553B",
           "#636efa",
           "#EF553B",
           "#EF553B",
           "#EF553B",
           "#636efa",
           "#FFA15A",
           "#00cc96",
           "#ab63fa",
           "#EF553B",
           "#ab63fa",
           "#FFA15A",
           "#EF553B",
           "#636efa",
           "#ab63fa",
           "#00cc96",
           "#EF553B",
           "#EF553B",
           "#EF553B",
           "#00cc96",
           "#636efa",
           "#636efa",
           "#636efa",
           "#FFA15A",
           "#FFA15A",
           "#EF553B",
           "#00cc96",
           "#EF553B",
           "#636efa",
           "#FFA15A",
           "#00cc96",
           "#00cc96",
           "#EF553B",
           "#EF553B",
           "#00cc96",
           "#FFA15A",
           "#00cc96",
           "#ab63fa",
           "#EF553B",
           "#FFA15A",
           "#EF553B",
           "#FFA15A",
           "#EF553B",
           "#EF553B",
           "#EF553B",
           "#00cc96",
           "#ab63fa",
           "#EF553B",
           "#EF553B",
           "#636efa",
           "#EF553B",
           "#EF553B",
           "#EF553B",
           "#EF553B",
           "#00cc96",
           "#636efa",
           "#EF553B",
           "#EF553B",
           "#00cc96",
           "#00cc96",
           "#ab63fa",
           "#EF553B",
           "#EF553B",
           "#ab63fa",
           "#636efa",
           "#ab63fa",
           "#ab63fa",
           "#EF553B",
           "#636efa",
           "#00cc96",
           "#FFA15A",
           "#EF553B",
           "#EF553B",
           "#EF553B",
           "#EF553B",
           "#00cc96",
           "#EF553B",
           "#ab63fa",
           "#EF553B",
           "#ab63fa",
           "#00cc96",
           "#EF553B",
           "#00cc96",
           "#00cc96",
           "#FFA15A",
           "#00cc96",
           "#EF553B",
           "#ab63fa",
           "#EF553B",
           "#00cc96",
           "#ab63fa",
           "#ab63fa",
           "#ab63fa",
           "#EF553B",
           "#EF553B",
           "#EF553B",
           "#00cc96",
           "#00cc96",
           "#EF553B",
           "#EF553B",
           "#FFA15A",
           "#FFA15A",
           "#EF553B",
           "#EF553B",
           "#00cc96",
           "#EF553B",
           "#636efa",
           "#00cc96",
           "#00cc96",
           "#EF553B",
           "#EF553B",
           "#FFA15A",
           "#00cc96",
           "#EF553B",
           "#636efa",
           "#EF553B",
           "#ab63fa",
           "#636efa",
           "#EF553B",
           "#EF553B",
           "#EF553B",
           "#ab63fa",
           "#EF553B",
           "#EF553B",
           "#EF553B",
           "#636efa",
           "#636efa",
           "#FFA15A",
           "#636efa",
           "#EF553B",
           "#00cc96",
           "#636efa",
           "#ab63fa",
           "#636efa",
           "#ab63fa",
           "#EF553B",
           "#00cc96",
           "#FFA15A",
           "#00cc96",
           "#636efa",
           "#ab63fa",
           "#ab63fa",
           "#00cc96",
           "#EF553B",
           "#00cc96",
           "#00cc96",
           "#ab63fa",
           "#FFA15A",
           "#EF553B",
           "#ab63fa",
           "#EF553B",
           "#EF553B",
           "#EF553B",
           "#00cc96",
           "#EF553B",
           "#EF553B",
           "#EF553B",
           "#636efa",
           "#636efa",
           "#636efa",
           "#EF553B",
           "#636efa",
           "#ab63fa",
           "#FFA15A",
           "#FFA15A",
           "#00cc96",
           "#FFA15A",
           "#00cc96",
           "#00cc96",
           "#EF553B",
           "#EF553B",
           "#EF553B",
           "#ab63fa",
           "#EF553B",
           "#EF553B",
           "#EF553B",
           "#FFA15A",
           "#00cc96",
           "#ab63fa",
           "#EF553B",
           "#EF553B",
           "#EF553B",
           "#EF553B",
           "#EF553B",
           "#EF553B",
           "#EF553B"
          ]
         },
         "name": "",
         "showlegend": true,
         "type": "pie"
        }
       ],
       "layout": {
        "legend": {
         "tracegroupgap": 0
        },
        "template": {
         "data": {
          "bar": [
           {
            "error_x": {
             "color": "#2a3f5f"
            },
            "error_y": {
             "color": "#2a3f5f"
            },
            "marker": {
             "line": {
              "color": "#E5ECF6",
              "width": 0.5
             },
             "pattern": {
              "fillmode": "overlay",
              "size": 10,
              "solidity": 0.2
             }
            },
            "type": "bar"
           }
          ],
          "barpolar": [
           {
            "marker": {
             "line": {
              "color": "#E5ECF6",
              "width": 0.5
             },
             "pattern": {
              "fillmode": "overlay",
              "size": 10,
              "solidity": 0.2
             }
            },
            "type": "barpolar"
           }
          ],
          "carpet": [
           {
            "aaxis": {
             "endlinecolor": "#2a3f5f",
             "gridcolor": "white",
             "linecolor": "white",
             "minorgridcolor": "white",
             "startlinecolor": "#2a3f5f"
            },
            "baxis": {
             "endlinecolor": "#2a3f5f",
             "gridcolor": "white",
             "linecolor": "white",
             "minorgridcolor": "white",
             "startlinecolor": "#2a3f5f"
            },
            "type": "carpet"
           }
          ],
          "choropleth": [
           {
            "colorbar": {
             "outlinewidth": 0,
             "ticks": ""
            },
            "type": "choropleth"
           }
          ],
          "contour": [
           {
            "colorbar": {
             "outlinewidth": 0,
             "ticks": ""
            },
            "colorscale": [
             [
              0,
              "#0d0887"
             ],
             [
              0.1111111111111111,
              "#46039f"
             ],
             [
              0.2222222222222222,
              "#7201a8"
             ],
             [
              0.3333333333333333,
              "#9c179e"
             ],
             [
              0.4444444444444444,
              "#bd3786"
             ],
             [
              0.5555555555555556,
              "#d8576b"
             ],
             [
              0.6666666666666666,
              "#ed7953"
             ],
             [
              0.7777777777777778,
              "#fb9f3a"
             ],
             [
              0.8888888888888888,
              "#fdca26"
             ],
             [
              1,
              "#f0f921"
             ]
            ],
            "type": "contour"
           }
          ],
          "contourcarpet": [
           {
            "colorbar": {
             "outlinewidth": 0,
             "ticks": ""
            },
            "type": "contourcarpet"
           }
          ],
          "heatmap": [
           {
            "colorbar": {
             "outlinewidth": 0,
             "ticks": ""
            },
            "colorscale": [
             [
              0,
              "#0d0887"
             ],
             [
              0.1111111111111111,
              "#46039f"
             ],
             [
              0.2222222222222222,
              "#7201a8"
             ],
             [
              0.3333333333333333,
              "#9c179e"
             ],
             [
              0.4444444444444444,
              "#bd3786"
             ],
             [
              0.5555555555555556,
              "#d8576b"
             ],
             [
              0.6666666666666666,
              "#ed7953"
             ],
             [
              0.7777777777777778,
              "#fb9f3a"
             ],
             [
              0.8888888888888888,
              "#fdca26"
             ],
             [
              1,
              "#f0f921"
             ]
            ],
            "type": "heatmap"
           }
          ],
          "heatmapgl": [
           {
            "colorbar": {
             "outlinewidth": 0,
             "ticks": ""
            },
            "colorscale": [
             [
              0,
              "#0d0887"
             ],
             [
              0.1111111111111111,
              "#46039f"
             ],
             [
              0.2222222222222222,
              "#7201a8"
             ],
             [
              0.3333333333333333,
              "#9c179e"
             ],
             [
              0.4444444444444444,
              "#bd3786"
             ],
             [
              0.5555555555555556,
              "#d8576b"
             ],
             [
              0.6666666666666666,
              "#ed7953"
             ],
             [
              0.7777777777777778,
              "#fb9f3a"
             ],
             [
              0.8888888888888888,
              "#fdca26"
             ],
             [
              1,
              "#f0f921"
             ]
            ],
            "type": "heatmapgl"
           }
          ],
          "histogram": [
           {
            "marker": {
             "pattern": {
              "fillmode": "overlay",
              "size": 10,
              "solidity": 0.2
             }
            },
            "type": "histogram"
           }
          ],
          "histogram2d": [
           {
            "colorbar": {
             "outlinewidth": 0,
             "ticks": ""
            },
            "colorscale": [
             [
              0,
              "#0d0887"
             ],
             [
              0.1111111111111111,
              "#46039f"
             ],
             [
              0.2222222222222222,
              "#7201a8"
             ],
             [
              0.3333333333333333,
              "#9c179e"
             ],
             [
              0.4444444444444444,
              "#bd3786"
             ],
             [
              0.5555555555555556,
              "#d8576b"
             ],
             [
              0.6666666666666666,
              "#ed7953"
             ],
             [
              0.7777777777777778,
              "#fb9f3a"
             ],
             [
              0.8888888888888888,
              "#fdca26"
             ],
             [
              1,
              "#f0f921"
             ]
            ],
            "type": "histogram2d"
           }
          ],
          "histogram2dcontour": [
           {
            "colorbar": {
             "outlinewidth": 0,
             "ticks": ""
            },
            "colorscale": [
             [
              0,
              "#0d0887"
             ],
             [
              0.1111111111111111,
              "#46039f"
             ],
             [
              0.2222222222222222,
              "#7201a8"
             ],
             [
              0.3333333333333333,
              "#9c179e"
             ],
             [
              0.4444444444444444,
              "#bd3786"
             ],
             [
              0.5555555555555556,
              "#d8576b"
             ],
             [
              0.6666666666666666,
              "#ed7953"
             ],
             [
              0.7777777777777778,
              "#fb9f3a"
             ],
             [
              0.8888888888888888,
              "#fdca26"
             ],
             [
              1,
              "#f0f921"
             ]
            ],
            "type": "histogram2dcontour"
           }
          ],
          "mesh3d": [
           {
            "colorbar": {
             "outlinewidth": 0,
             "ticks": ""
            },
            "type": "mesh3d"
           }
          ],
          "parcoords": [
           {
            "line": {
             "colorbar": {
              "outlinewidth": 0,
              "ticks": ""
             }
            },
            "type": "parcoords"
           }
          ],
          "pie": [
           {
            "automargin": true,
            "type": "pie"
           }
          ],
          "scatter": [
           {
            "marker": {
             "colorbar": {
              "outlinewidth": 0,
              "ticks": ""
             }
            },
            "type": "scatter"
           }
          ],
          "scatter3d": [
           {
            "line": {
             "colorbar": {
              "outlinewidth": 0,
              "ticks": ""
             }
            },
            "marker": {
             "colorbar": {
              "outlinewidth": 0,
              "ticks": ""
             }
            },
            "type": "scatter3d"
           }
          ],
          "scattercarpet": [
           {
            "marker": {
             "colorbar": {
              "outlinewidth": 0,
              "ticks": ""
             }
            },
            "type": "scattercarpet"
           }
          ],
          "scattergeo": [
           {
            "marker": {
             "colorbar": {
              "outlinewidth": 0,
              "ticks": ""
             }
            },
            "type": "scattergeo"
           }
          ],
          "scattergl": [
           {
            "marker": {
             "colorbar": {
              "outlinewidth": 0,
              "ticks": ""
             }
            },
            "type": "scattergl"
           }
          ],
          "scattermapbox": [
           {
            "marker": {
             "colorbar": {
              "outlinewidth": 0,
              "ticks": ""
             }
            },
            "type": "scattermapbox"
           }
          ],
          "scatterpolar": [
           {
            "marker": {
             "colorbar": {
              "outlinewidth": 0,
              "ticks": ""
             }
            },
            "type": "scatterpolar"
           }
          ],
          "scatterpolargl": [
           {
            "marker": {
             "colorbar": {
              "outlinewidth": 0,
              "ticks": ""
             }
            },
            "type": "scatterpolargl"
           }
          ],
          "scatterternary": [
           {
            "marker": {
             "colorbar": {
              "outlinewidth": 0,
              "ticks": ""
             }
            },
            "type": "scatterternary"
           }
          ],
          "surface": [
           {
            "colorbar": {
             "outlinewidth": 0,
             "ticks": ""
            },
            "colorscale": [
             [
              0,
              "#0d0887"
             ],
             [
              0.1111111111111111,
              "#46039f"
             ],
             [
              0.2222222222222222,
              "#7201a8"
             ],
             [
              0.3333333333333333,
              "#9c179e"
             ],
             [
              0.4444444444444444,
              "#bd3786"
             ],
             [
              0.5555555555555556,
              "#d8576b"
             ],
             [
              0.6666666666666666,
              "#ed7953"
             ],
             [
              0.7777777777777778,
              "#fb9f3a"
             ],
             [
              0.8888888888888888,
              "#fdca26"
             ],
             [
              1,
              "#f0f921"
             ]
            ],
            "type": "surface"
           }
          ],
          "table": [
           {
            "cells": {
             "fill": {
              "color": "#EBF0F8"
             },
             "line": {
              "color": "white"
             }
            },
            "header": {
             "fill": {
              "color": "#C8D4E3"
             },
             "line": {
              "color": "white"
             }
            },
            "type": "table"
           }
          ]
         },
         "layout": {
          "annotationdefaults": {
           "arrowcolor": "#2a3f5f",
           "arrowhead": 0,
           "arrowwidth": 1
          },
          "autotypenumbers": "strict",
          "coloraxis": {
           "colorbar": {
            "outlinewidth": 0,
            "ticks": ""
           }
          },
          "colorscale": {
           "diverging": [
            [
             0,
             "#8e0152"
            ],
            [
             0.1,
             "#c51b7d"
            ],
            [
             0.2,
             "#de77ae"
            ],
            [
             0.3,
             "#f1b6da"
            ],
            [
             0.4,
             "#fde0ef"
            ],
            [
             0.5,
             "#f7f7f7"
            ],
            [
             0.6,
             "#e6f5d0"
            ],
            [
             0.7,
             "#b8e186"
            ],
            [
             0.8,
             "#7fbc41"
            ],
            [
             0.9,
             "#4d9221"
            ],
            [
             1,
             "#276419"
            ]
           ],
           "sequential": [
            [
             0,
             "#0d0887"
            ],
            [
             0.1111111111111111,
             "#46039f"
            ],
            [
             0.2222222222222222,
             "#7201a8"
            ],
            [
             0.3333333333333333,
             "#9c179e"
            ],
            [
             0.4444444444444444,
             "#bd3786"
            ],
            [
             0.5555555555555556,
             "#d8576b"
            ],
            [
             0.6666666666666666,
             "#ed7953"
            ],
            [
             0.7777777777777778,
             "#fb9f3a"
            ],
            [
             0.8888888888888888,
             "#fdca26"
            ],
            [
             1,
             "#f0f921"
            ]
           ],
           "sequentialminus": [
            [
             0,
             "#0d0887"
            ],
            [
             0.1111111111111111,
             "#46039f"
            ],
            [
             0.2222222222222222,
             "#7201a8"
            ],
            [
             0.3333333333333333,
             "#9c179e"
            ],
            [
             0.4444444444444444,
             "#bd3786"
            ],
            [
             0.5555555555555556,
             "#d8576b"
            ],
            [
             0.6666666666666666,
             "#ed7953"
            ],
            [
             0.7777777777777778,
             "#fb9f3a"
            ],
            [
             0.8888888888888888,
             "#fdca26"
            ],
            [
             1,
             "#f0f921"
            ]
           ]
          },
          "colorway": [
           "#636efa",
           "#EF553B",
           "#00cc96",
           "#ab63fa",
           "#FFA15A",
           "#19d3f3",
           "#FF6692",
           "#B6E880",
           "#FF97FF",
           "#FECB52"
          ],
          "font": {
           "color": "#2a3f5f"
          },
          "geo": {
           "bgcolor": "white",
           "lakecolor": "white",
           "landcolor": "#E5ECF6",
           "showlakes": true,
           "showland": true,
           "subunitcolor": "white"
          },
          "hoverlabel": {
           "align": "left"
          },
          "hovermode": "closest",
          "mapbox": {
           "style": "light"
          },
          "paper_bgcolor": "white",
          "plot_bgcolor": "#E5ECF6",
          "polar": {
           "angularaxis": {
            "gridcolor": "white",
            "linecolor": "white",
            "ticks": ""
           },
           "bgcolor": "#E5ECF6",
           "radialaxis": {
            "gridcolor": "white",
            "linecolor": "white",
            "ticks": ""
           }
          },
          "scene": {
           "xaxis": {
            "backgroundcolor": "#E5ECF6",
            "gridcolor": "white",
            "gridwidth": 2,
            "linecolor": "white",
            "showbackground": true,
            "ticks": "",
            "zerolinecolor": "white"
           },
           "yaxis": {
            "backgroundcolor": "#E5ECF6",
            "gridcolor": "white",
            "gridwidth": 2,
            "linecolor": "white",
            "showbackground": true,
            "ticks": "",
            "zerolinecolor": "white"
           },
           "zaxis": {
            "backgroundcolor": "#E5ECF6",
            "gridcolor": "white",
            "gridwidth": 2,
            "linecolor": "white",
            "showbackground": true,
            "ticks": "",
            "zerolinecolor": "white"
           }
          },
          "shapedefaults": {
           "line": {
            "color": "#2a3f5f"
           }
          },
          "ternary": {
           "aaxis": {
            "gridcolor": "white",
            "linecolor": "white",
            "ticks": ""
           },
           "baxis": {
            "gridcolor": "white",
            "linecolor": "white",
            "ticks": ""
           },
           "bgcolor": "#E5ECF6",
           "caxis": {
            "gridcolor": "white",
            "linecolor": "white",
            "ticks": ""
           }
          },
          "title": {
           "x": 0.05
          },
          "xaxis": {
           "automargin": true,
           "gridcolor": "white",
           "linecolor": "white",
           "ticks": "",
           "title": {
            "standoff": 15
           },
           "zerolinecolor": "white",
           "zerolinewidth": 2
          },
          "yaxis": {
           "automargin": true,
           "gridcolor": "white",
           "linecolor": "white",
           "ticks": "",
           "title": {
            "standoff": 15
           },
           "zerolinecolor": "white",
           "zerolinewidth": 2
          }
         }
        },
        "title": {
         "text": "Percentage rate of pain"
        }
       }
      }
     },
     "metadata": {},
     "output_type": "display_data"
    }
   ],
   "source": [
    "fig = px.pie(names=df['pain'],color=df['pain'],\n",
    "                            title='Percentage rate of pain')\n",
    "fig.show()"
   ]
  },
  {
   "cell_type": "code",
   "execution_count": 19,
   "metadata": {},
   "outputs": [
    {
     "data": {
      "text/plain": [
       "<AxesSubplot:xlabel='outcome', ylabel='count'>"
      ]
     },
     "execution_count": 19,
     "metadata": {},
     "output_type": "execute_result"
    },
    {
     "data": {
      "image/png": "[encoded data removed]",
      "text/plain": [
       "<Figure size 432x288 with 1 Axes>"
      ]
     },
     "metadata": {
      "needs_background": "light"
     },
     "output_type": "display_data"
    }
   ],
   "source": [
    "sns.countplot(x=df['outcome'],hue=df['age'])"
   ]
  },
  {
   "cell_type": "code",
   "execution_count": 18,
   "metadata": {},
   "outputs": [],
   "source": [
    "df.drop('hospital_number',axis = 1, inplace = True)"
   ]
  },
  {
   "cell_type": "code",
   "execution_count": 21,
   "metadata": {},
   "outputs": [],
   "source": [
    "enc = LabelEncoder()\n",
    "category_var =['surgery','age','temp_of_extremities','peripheral_pulse','mucous_membrane',\n",
    "'capillary_refill_time','pain','abdomo_appearance', 'peristalsis', 'abdominal_distention',\n",
    "'nasogastric_tube', 'nasogastric_reflux', 'rectal_exam_feces','abdomen', 'surgical_lesion','cp_data' ]\n",
    "for Car in category_var:\n",
    "    df[Car]=(enc.fit_transform(df[Car]))"
   ]
  },
  {
   "cell_type": "code",
   "execution_count": 23,
   "metadata": {},
   "outputs": [],
   "source": [
    "X = df.drop('outcome', axis=1)\n",
    "y = df['outcome']\n",
    "X_train,X_test,y_train,y_test = train_test_split(X,y, test_size=0.2, random_state=1)"
   ]
  },
  {
   "cell_type": "code",
   "execution_count": 35,
   "metadata": {},
   "outputs": [],
   "source": [
    "clf1 = Pipeline([('clf', LogisticRegression())])\n",
    "clf2 = Pipeline([('clf', KNeighborsClassifier())])\n",
    "clf3 = Pipeline([('clf', DecisionTreeClassifier())])\n",
    "clf4 = Pipeline([('clf', RandomForestClassifier())])"
   ]
  },
  {
   "cell_type": "code",
   "execution_count": 37,
   "metadata": {},
   "outputs": [
    {
     "name": "stderr",
     "output_type": "stream",
     "text": [
      "C:\\Users\\HP\\AppData\\Local\\Programs\\Python\\Python310\\lib\\site-packages\\sklearn\\linear_model\\_logistic.py:814: ConvergenceWarning:\n",
      "\n",
      "lbfgs failed to converge (status=1):\n",
      "STOP: TOTAL NO. of ITERATIONS REACHED LIMIT.\n",
      "\n",
      "Increase the number of iterations (max_iter) or scale the data as shown in:\n",
      "    https://scikit-learn.org/stable/modules/preprocessing.html\n",
      "Please also refer to the documentation for alternative solver options:\n",
      "    https://scikit-learn.org/stable/modules/linear_model.html#logistic-regression\n",
      "\n"
     ]
    },
    {
     "data": {
      "text/plain": [
       "Pipeline(steps=[('clf', LogisticRegression())])"
      ]
     },
     "execution_count": 37,
     "metadata": {},
     "output_type": "execute_result"
    }
   ],
   "source": [
    "clf1.fit(X_train,y_train)\n"
   ]
  },
  {
   "cell_type": "code",
   "execution_count": 38,
   "metadata": {},
   "outputs": [
    {
     "data": {
      "text/plain": [
       "Pipeline(steps=[('clf', KNeighborsClassifier())])"
      ]
     },
     "execution_count": 38,
     "metadata": {},
     "output_type": "execute_result"
    }
   ],
   "source": [
    "clf2.fit(X_train,y_train)\n"
   ]
  },
  {
   "cell_type": "code",
   "execution_count": 39,
   "metadata": {},
   "outputs": [
    {
     "data": {
      "text/plain": [
       "Pipeline(steps=[('clf', DecisionTreeClassifier())])"
      ]
     },
     "execution_count": 39,
     "metadata": {},
     "output_type": "execute_result"
    }
   ],
   "source": [
    "clf3.fit(X_train,y_train)\n"
   ]
  },
  {
   "cell_type": "code",
   "execution_count": 40,
   "metadata": {},
   "outputs": [
    {
     "data": {
      "text/plain": [
       "Pipeline(steps=[('clf', RandomForestClassifier())])"
      ]
     },
     "execution_count": 40,
     "metadata": {},
     "output_type": "execute_result"
    }
   ],
   "source": [
    "clf4.fit(X_train,y_train)"
   ]
  },
  {
   "cell_type": "code",
   "execution_count": 42,
   "metadata": {},
   "outputs": [
    {
     "name": "stdout",
     "output_type": "stream",
     "text": [
      "['lived' 'lived' 'lived' 'lived' 'lived' 'lived' 'died' 'died' 'lived'\n",
      " 'lived' 'lived' 'lived' 'lived' 'died' 'lived' 'lived' 'lived' 'died'\n",
      " 'lived' 'lived' 'died' 'lived' 'lived' 'lived' 'lived' 'lived' 'lived'\n",
      " 'lived' 'lived' 'lived' 'lived' 'lived' 'lived' 'died' 'lived' 'lived'\n",
      " 'lived' 'lived' 'lived' 'lived' 'died' 'lived' 'lived' 'lived' 'died'\n",
      " 'died' 'lived' 'lived' 'lived' 'lived' 'lived' 'died' 'lived' 'lived'\n",
      " 'lived' 'lived' 'lived' 'lived' 'died' 'lived']\n",
      "\n",
      "\n",
      "['died' 'lived' 'died' 'lived' 'lived' 'lived' 'died' 'died' 'euthanized'\n",
      " 'euthanized' 'lived' 'lived' 'lived' 'lived' 'lived' 'lived' 'lived'\n",
      " 'lived' 'died' 'lived' 'lived' 'euthanized' 'died' 'died' 'died' 'lived'\n",
      " 'lived' 'died' 'lived' 'died' 'lived' 'lived' 'lived' 'died' 'died'\n",
      " 'lived' 'lived' 'lived' 'euthanized' 'lived' 'died' 'lived' 'lived'\n",
      " 'died' 'died' 'died' 'died' 'lived' 'died' 'died' 'lived' 'lived' 'lived'\n",
      " 'died' 'died' 'lived' 'died' 'lived' 'died' 'died']\n",
      "\n",
      "\n",
      "['euthanized' 'lived' 'euthanized' 'lived' 'lived' 'lived' 'lived' 'died'\n",
      " 'lived' 'lived' 'lived' 'lived' 'lived' 'euthanized' 'died' 'lived'\n",
      " 'died' 'lived' 'lived' 'lived' 'lived' 'lived' 'lived' 'lived' 'lived'\n",
      " 'lived' 'lived' 'lived' 'lived' 'euthanized' 'lived' 'lived' 'lived'\n",
      " 'died' 'lived' 'died' 'lived' 'lived' 'lived' 'lived' 'died' 'lived'\n",
      " 'lived' 'lived' 'euthanized' 'died' 'euthanized' 'died' 'lived' 'lived'\n",
      " 'lived' 'died' 'lived' 'euthanized' 'lived' 'lived' 'lived' 'lived'\n",
      " 'died' 'lived']\n",
      "\n",
      "\n",
      "['lived' 'lived' 'lived' 'lived' 'lived' 'lived' 'died' 'lived' 'lived'\n",
      " 'lived' 'lived' 'lived' 'lived' 'died' 'died' 'lived' 'died' 'lived'\n",
      " 'lived' 'lived' 'lived' 'lived' 'lived' 'lived' 'lived' 'lived' 'lived'\n",
      " 'lived' 'lived' 'died' 'lived' 'lived' 'lived' 'died' 'lived' 'died'\n",
      " 'lived' 'lived' 'lived' 'lived' 'died' 'lived' 'lived' 'lived' 'died'\n",
      " 'died' 'died' 'lived' 'died' 'lived' 'lived' 'lived' 'lived' 'died'\n",
      " 'died' 'lived' 'lived' 'lived' 'died' 'lived']\n"
     ]
    }
   ],
   "source": [
    "pred1 = clf1.predict(X_test)\n",
    "pred2 = clf2.predict(X_test)\n",
    "pred3 = clf3.predict(X_test)\n",
    "pred4 = clf4.predict(X_test)\n",
    "print(pred1)\n",
    "print('\\n')\n",
    "print(pred2)\n",
    "print('\\n')\n",
    "print(pred3)\n",
    "print('\\n')\n",
    "print(pred4)"
   ]
  },
  {
   "cell_type": "code",
   "execution_count": 43,
   "metadata": {},
   "outputs": [
    {
     "name": "stdout",
     "output_type": "stream",
     "text": [
      "0.6666666666666666\n",
      "0.6833333333333333\n",
      "0.7\n",
      "0.8166666666666667\n"
     ]
    }
   ],
   "source": [
    "print(clf1.score(X_test,y_test))\n",
    "print(clf2.score(X_test,y_test))\n",
    "print(clf3.score(X_test,y_test))\n",
    "print(clf4.score(X_test,y_test))"
   ]
  },
  {
   "cell_type": "code",
   "execution_count": 44,
   "metadata": {},
   "outputs": [
    {
     "name": "stderr",
     "output_type": "stream",
     "text": [
      "C:\\Users\\HP\\AppData\\Local\\Programs\\Python\\Python310\\lib\\site-packages\\sklearn\\metrics\\_classification.py:1318: UndefinedMetricWarning:\n",
      "\n",
      "Precision and F-score are ill-defined and being set to 0.0 in labels with no predicted samples. Use `zero_division` parameter to control this behavior.\n",
      "\n",
      "C:\\Users\\HP\\AppData\\Local\\Programs\\Python\\Python310\\lib\\site-packages\\sklearn\\metrics\\_classification.py:1318: UndefinedMetricWarning:\n",
      "\n",
      "Precision and F-score are ill-defined and being set to 0.0 in labels with no predicted samples. Use `zero_division` parameter to control this behavior.\n",
      "\n",
      "C:\\Users\\HP\\AppData\\Local\\Programs\\Python\\Python310\\lib\\site-packages\\sklearn\\metrics\\_classification.py:1318: UndefinedMetricWarning:\n",
      "\n",
      "Precision and F-score are ill-defined and being set to 0.0 in labels with no predicted samples. Use `zero_division` parameter to control this behavior.\n",
      "\n"
     ]
    },
    {
     "name": "stdout",
     "output_type": "stream",
     "text": [
      "              precision    recall  f1-score   support\n",
      "\n",
      "        died       0.64      0.37      0.47        19\n",
      "  euthanized       0.00      0.00      0.00         5\n",
      "       lived       0.67      0.92      0.78        36\n",
      "\n",
      "    accuracy                           0.67        60\n",
      "   macro avg       0.44      0.43      0.41        60\n",
      "weighted avg       0.61      0.67      0.61        60\n",
      "\n",
      "[[ 7  0 12]\n",
      " [ 1  0  4]\n",
      " [ 3  0 33]]\n"
     ]
    }
   ],
   "source": [
    "print(classification_report(y_test,pred1))\n",
    "print(confusion_matrix(y_test, pred1))\n"
   ]
  },
  {
   "cell_type": "code",
   "execution_count": 45,
   "metadata": {},
   "outputs": [
    {
     "name": "stdout",
     "output_type": "stream",
     "text": [
      "              precision    recall  f1-score   support\n",
      "\n",
      "        died       0.58      0.74      0.65        19\n",
      "  euthanized       0.25      0.20      0.22         5\n",
      "       lived       0.81      0.72      0.76        36\n",
      "\n",
      "    accuracy                           0.68        60\n",
      "   macro avg       0.55      0.55      0.55        60\n",
      "weighted avg       0.69      0.68      0.68        60\n",
      "\n",
      "[[14  0  5]\n",
      " [ 3  1  1]\n",
      " [ 7  3 26]]\n"
     ]
    }
   ],
   "source": [
    "print(classification_report(y_test,pred2))\n",
    "print(confusion_matrix(y_test, pred2))"
   ]
  },
  {
   "cell_type": "code",
   "execution_count": 46,
   "metadata": {},
   "outputs": [
    {
     "name": "stdout",
     "output_type": "stream",
     "text": [
      "              precision    recall  f1-score   support\n",
      "\n",
      "        died       0.70      0.37      0.48        19\n",
      "  euthanized       0.14      0.20      0.17         5\n",
      "       lived       0.79      0.94      0.86        36\n",
      "\n",
      "    accuracy                           0.70        60\n",
      "   macro avg       0.54      0.50      0.50        60\n",
      "weighted avg       0.71      0.70      0.68        60\n",
      "\n",
      "[[ 7  6  6]\n",
      " [ 1  1  3]\n",
      " [ 2  0 34]]\n"
     ]
    }
   ],
   "source": [
    "print(classification_report(y_test,pred3))\n",
    "print(confusion_matrix(y_test, pred3))"
   ]
  },
  {
   "cell_type": "code",
   "execution_count": 47,
   "metadata": {},
   "outputs": [
    {
     "name": "stdout",
     "output_type": "stream",
     "text": [
      "              precision    recall  f1-score   support\n",
      "\n",
      "        died       0.87      0.68      0.76        19\n",
      "  euthanized       0.00      0.00      0.00         5\n",
      "       lived       0.80      1.00      0.89        36\n",
      "\n",
      "    accuracy                           0.82        60\n",
      "   macro avg       0.56      0.56      0.55        60\n",
      "weighted avg       0.75      0.82      0.78        60\n",
      "\n",
      "[[13  0  6]\n",
      " [ 2  0  3]\n",
      " [ 0  0 36]]\n"
     ]
    },
    {
     "name": "stderr",
     "output_type": "stream",
     "text": [
      "C:\\Users\\HP\\AppData\\Local\\Programs\\Python\\Python310\\lib\\site-packages\\sklearn\\metrics\\_classification.py:1318: UndefinedMetricWarning:\n",
      "\n",
      "Precision and F-score are ill-defined and being set to 0.0 in labels with no predicted samples. Use `zero_division` parameter to control this behavior.\n",
      "\n",
      "C:\\Users\\HP\\AppData\\Local\\Programs\\Python\\Python310\\lib\\site-packages\\sklearn\\metrics\\_classification.py:1318: UndefinedMetricWarning:\n",
      "\n",
      "Precision and F-score are ill-defined and being set to 0.0 in labels with no predicted samples. Use `zero_division` parameter to control this behavior.\n",
      "\n",
      "C:\\Users\\HP\\AppData\\Local\\Programs\\Python\\Python310\\lib\\site-packages\\sklearn\\metrics\\_classification.py:1318: UndefinedMetricWarning:\n",
      "\n",
      "Precision and F-score are ill-defined and being set to 0.0 in labels with no predicted samples. Use `zero_division` parameter to control this behavior.\n",
      "\n"
     ]
    }
   ],
   "source": [
    "print(classification_report(y_test,pred4))\n",
    "print(confusion_matrix(y_test, pred4))"
   ]
  },
  {
   "cell_type": "code",
   "execution_count": null,
   "metadata": {},
   "outputs": [],
   "source": []
  }
 ],
 "metadata": {
  "interpreter": {
   "hash": "9bf2ca0f4a7adc3ce2f237ca763c1538d3ef289a4e7face3612a01cdae9f6807"
  },
  "kernelspec": {
   "display_name": "Python 3.10.2 64-bit",
   "language": "python",
   "name": "python3"
  },
  "language_info": {
   "codemirror_mode": {
    "name": "ipython",
    "version": 3
   },
   "file_extension": ".py",
   "mimetype": "text/x-python",
   "name": "python",
   "nbconvert_exporter": "python",
   "pygments_lexer": "ipython3",
   "version": "3.10.2"
  },
  "orig_nbformat": 4
 },
 "nbformat": 4,
 "nbformat_minor": 2
}
