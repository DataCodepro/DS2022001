{
 "cells": [
  {
   "cell_type": "code",
   "execution_count": 1,
   "metadata": {},
   "outputs": [],
   "source": [
    "import numpy as np\n",
    "import pandas as pd\n",
    "import matplotlib.pyplot as plt\n",
    "import seaborn as sns\n",
    "import plotly.express as px\n",
    "from sklearn.model_selection import train_test_split\n",
    "from sklearn.linear_model import LinearRegression\n",
    "from sklearn.metrics import mean_absolute_error, mean_squared_error, r2_score"
   ]
  },
  {
   "cell_type": "code",
   "execution_count": 2,
   "metadata": {},
   "outputs": [
    {
     "data": {
      "text/html": [
       "<div>\n",
       "<style scoped>\n",
       "    .dataframe tbody tr th:only-of-type {\n",
       "        vertical-align: middle;\n",
       "    }\n",
       "\n",
       "    .dataframe tbody tr th {\n",
       "        vertical-align: top;\n",
       "    }\n",
       "\n",
       "    .dataframe thead th {\n",
       "        text-align: right;\n",
       "    }\n",
       "</style>\n",
       "<table border=\"1\" class=\"dataframe\">\n",
       "  <thead>\n",
       "    <tr style=\"text-align: right;\">\n",
       "      <th></th>\n",
       "      <th>YearsExperience</th>\n",
       "      <th>Salary</th>\n",
       "    </tr>\n",
       "  </thead>\n",
       "  <tbody>\n",
       "    <tr>\n",
       "      <th>0</th>\n",
       "      <td>1.1</td>\n",
       "      <td>39343.0</td>\n",
       "    </tr>\n",
       "    <tr>\n",
       "      <th>1</th>\n",
       "      <td>1.3</td>\n",
       "      <td>46205.0</td>\n",
       "    </tr>\n",
       "    <tr>\n",
       "      <th>2</th>\n",
       "      <td>1.5</td>\n",
       "      <td>37731.0</td>\n",
       "    </tr>\n",
       "    <tr>\n",
       "      <th>3</th>\n",
       "      <td>2.0</td>\n",
       "      <td>43525.0</td>\n",
       "    </tr>\n",
       "    <tr>\n",
       "      <th>4</th>\n",
       "      <td>2.2</td>\n",
       "      <td>39891.0</td>\n",
       "    </tr>\n",
       "  </tbody>\n",
       "</table>\n",
       "</div>"
      ],
      "text/plain": [
       "   YearsExperience   Salary\n",
       "0              1.1  39343.0\n",
       "1              1.3  46205.0\n",
       "2              1.5  37731.0\n",
       "3              2.0  43525.0\n",
       "4              2.2  39891.0"
      ]
     },
     "execution_count": 2,
     "metadata": {},
     "output_type": "execute_result"
    }
   ],
   "source": [
    "salary  = pd.read_csv('Salary_Data.csv')\n",
    "salary.head()"
   ]
  },
  {
   "cell_type": "code",
   "execution_count": 3,
   "metadata": {},
   "outputs": [
    {
     "data": {
      "text/plain": [
       "YearsExperience    0\n",
       "Salary             0\n",
       "dtype: int64"
      ]
     },
     "execution_count": 3,
     "metadata": {},
     "output_type": "execute_result"
    }
   ],
   "source": [
    "salary.isnull().sum()"
   ]
  },
  {
   "cell_type": "code",
   "execution_count": 4,
   "metadata": {},
   "outputs": [
    {
     "data": {
      "text/plain": [
       "(30, 2)"
      ]
     },
     "execution_count": 4,
     "metadata": {},
     "output_type": "execute_result"
    }
   ],
   "source": [
    "salary.shape"
   ]
  },
  {
   "cell_type": "code",
   "execution_count": 5,
   "metadata": {},
   "outputs": [
    {
     "data": {
      "text/plain": [
       "<AxesSubplot:xlabel='YearsExperience', ylabel='Salary'>"
      ]
     },
     "execution_count": 5,
     "metadata": {},
     "output_type": "execute_result"
    },
    {
     "data": {
      "image/png": "[encoded data removed]",
      "text/plain": [
       "<Figure size 432x288 with 1 Axes>"
      ]
     },
     "metadata": {
      "needs_background": "light"
     },
     "output_type": "display_data"
    }
   ],
   "source": [
    "sns.regplot(x=salary['YearsExperience'], y = salary['Salary'])"
   ]
  },
  {
   "cell_type": "code",
   "execution_count": 6,
   "metadata": {},
   "outputs": [],
   "source": [
    "X =salary[['YearsExperience']]\n",
    "y = salary['Salary']\n",
    "\n",
    "X_train,X_test,y_train,y_test = train_test_split(X,y, test_size = 0.1,random_state= 1)"
   ]
  },
  {
   "cell_type": "code",
   "execution_count": 7,
   "metadata": {},
   "outputs": [
    {
     "data": {
      "text/plain": [
       "LinearRegression()"
      ]
     },
     "execution_count": 7,
     "metadata": {},
     "output_type": "execute_result"
    }
   ],
   "source": [
    "model1 = LinearRegression()\n",
    "model1.fit(X_train,y_train)"
   ]
  },
  {
   "cell_type": "code",
   "execution_count": 8,
   "metadata": {},
   "outputs": [],
   "source": [
    "pred1 = model1.predict(X_test)"
   ]
  },
  {
   "cell_type": "code",
   "execution_count": 9,
   "metadata": {},
   "outputs": [
    {
     "data": {
      "text/plain": [
       "array([75389.2962963 , 92329.11079971, 62213.88501586])"
      ]
     },
     "execution_count": 9,
     "metadata": {},
     "output_type": "execute_result"
    }
   ],
   "source": [
    "pred1"
   ]
  },
  {
   "cell_type": "code",
   "execution_count": 11,
   "metadata": {},
   "outputs": [
    {
     "name": "stdout",
     "output_type": "stream",
     "text": [
      "[9411.00805745]\n"
     ]
    }
   ],
   "source": [
    "print(model1.coef_)"
   ]
  },
  {
   "cell_type": "code",
   "execution_count": 12,
   "metadata": {},
   "outputs": [
    {
     "name": "stdout",
     "output_type": "stream",
     "text": [
      "0.8453155338321459\n"
     ]
    }
   ],
   "source": [
    "print(r2_score(y_test,pred1))"
   ]
  },
  {
   "cell_type": "code",
   "execution_count": 14,
   "metadata": {},
   "outputs": [
    {
     "name": "stdout",
     "output_type": "stream",
     "text": [
      "MAE 4882.235962709953\n"
     ]
    }
   ],
   "source": [
    "print('MAE',mean_absolute_error(y_test,pred1))"
   ]
  },
  {
   "cell_type": "code",
   "execution_count": 15,
   "metadata": {},
   "outputs": [
    {
     "name": "stdout",
     "output_type": "stream",
     "text": [
      "MSE 31869368.148030903\n"
     ]
    }
   ],
   "source": [
    "print('MSE',mean_squared_error(y_test,pred1))"
   ]
  },
  {
   "cell_type": "code",
   "execution_count": 16,
   "metadata": {},
   "outputs": [
    {
     "name": "stdout",
     "output_type": "stream",
     "text": [
      "RMSE 5645.296108091311\n"
     ]
    }
   ],
   "source": [
    "print('RMSE',np.sqrt(mean_squared_error(y_test,pred1)))"
   ]
  },
  {
   "cell_type": "code",
   "execution_count": 23,
   "metadata": {},
   "outputs": [],
   "source": [
    "gdp = pd.read_csv('RealGDP30032022.csv')"
   ]
  },
  {
   "cell_type": "code",
   "execution_count": 24,
   "metadata": {},
   "outputs": [
    {
     "data": {
      "text/html": [
       "<div>\n",
       "<style scoped>\n",
       "    .dataframe tbody tr th:only-of-type {\n",
       "        vertical-align: middle;\n",
       "    }\n",
       "\n",
       "    .dataframe tbody tr th {\n",
       "        vertical-align: top;\n",
       "    }\n",
       "\n",
       "    .dataframe thead th {\n",
       "        text-align: right;\n",
       "    }\n",
       "</style>\n",
       "<table border=\"1\" class=\"dataframe\">\n",
       "  <thead>\n",
       "    <tr style=\"text-align: right;\">\n",
       "      <th></th>\n",
       "      <th>index</th>\n",
       "      <th>tyear</th>\n",
       "      <th>Period</th>\n",
       "      <th>Agriculture</th>\n",
       "      <th>CropProduction</th>\n",
       "      <th>Livestock</th>\n",
       "      <th>Forestry</th>\n",
       "      <th>Fishing</th>\n",
       "      <th>Industry</th>\n",
       "      <th>MiningAndQuarrying</th>\n",
       "      <th>...</th>\n",
       "      <th>AdministrativeAndSupportServicesBusinessServices</th>\n",
       "      <th>PublicAdministration</th>\n",
       "      <th>Education</th>\n",
       "      <th>HumanHealthAndSocialServices</th>\n",
       "      <th>OtherServices</th>\n",
       "      <th>TOTAL_GDP</th>\n",
       "      <th>TotalGDPatConstantBasicPrices</th>\n",
       "      <th>NonOilGDPatConstantBasicPrices</th>\n",
       "      <th>NetIndirectTaxesOnProducts</th>\n",
       "      <th>TotalGDPatConstantMarketPrices</th>\n",
       "    </tr>\n",
       "  </thead>\n",
       "  <tbody>\n",
       "    <tr>\n",
       "      <th>0</th>\n",
       "      <td>1981</td>\n",
       "      <td>Annual</td>\n",
       "      <td>2364373.15</td>\n",
       "      <td>1854764.44</td>\n",
       "      <td>341411.50</td>\n",
       "      <td>77897.99</td>\n",
       "      <td>90299.23</td>\n",
       "      <td>6603250.12</td>\n",
       "      <td>NaN</td>\n",
       "      <td>4977416.70</td>\n",
       "      <td>...</td>\n",
       "      <td>807075.54</td>\n",
       "      <td>242555.85</td>\n",
       "      <td>110697.65</td>\n",
       "      <td>132700.20</td>\n",
       "      <td>15258004.34</td>\n",
       "      <td>NaN</td>\n",
       "      <td>NaN</td>\n",
       "      <td>NaN</td>\n",
       "      <td>NaN</td>\n",
       "      <td>NaN</td>\n",
       "    </tr>\n",
       "    <tr>\n",
       "      <th>1</th>\n",
       "      <td>1982</td>\n",
       "      <td>Annual</td>\n",
       "      <td>2425960.89</td>\n",
       "      <td>1897078.85</td>\n",
       "      <td>361115.70</td>\n",
       "      <td>73910.25</td>\n",
       "      <td>93856.08</td>\n",
       "      <td>6272828.03</td>\n",
       "      <td>NaN</td>\n",
       "      <td>4453093.63</td>\n",
       "      <td>...</td>\n",
       "      <td>825921.69</td>\n",
       "      <td>248219.81</td>\n",
       "      <td>113282.57</td>\n",
       "      <td>133767.58</td>\n",
       "      <td>14985078.32</td>\n",
       "      <td>NaN</td>\n",
       "      <td>NaN</td>\n",
       "      <td>NaN</td>\n",
       "      <td>NaN</td>\n",
       "      <td>NaN</td>\n",
       "    </tr>\n",
       "    <tr>\n",
       "      <th>2</th>\n",
       "      <td>1983</td>\n",
       "      <td>Annual</td>\n",
       "      <td>2409081.92</td>\n",
       "      <td>1842704.31</td>\n",
       "      <td>393131.01</td>\n",
       "      <td>75282.78</td>\n",
       "      <td>97963.82</td>\n",
       "      <td>5264881.39</td>\n",
       "      <td>NaN</td>\n",
       "      <td>4052977.68</td>\n",
       "      <td>...</td>\n",
       "      <td>844767.84</td>\n",
       "      <td>253883.77</td>\n",
       "      <td>115867.49</td>\n",
       "      <td>125819.69</td>\n",
       "      <td>13849725.17</td>\n",
       "      <td>NaN</td>\n",
       "      <td>NaN</td>\n",
       "      <td>NaN</td>\n",
       "      <td>NaN</td>\n",
       "      <td>NaN</td>\n",
       "    </tr>\n",
       "    <tr>\n",
       "      <th>3</th>\n",
       "      <td>1984</td>\n",
       "      <td>Annual</td>\n",
       "      <td>2303505.42</td>\n",
       "      <td>1759115.15</td>\n",
       "      <td>399685.38</td>\n",
       "      <td>76694.14</td>\n",
       "      <td>68010.74</td>\n",
       "      <td>5621181.44</td>\n",
       "      <td>NaN</td>\n",
       "      <td>4559196.21</td>\n",
       "      <td>...</td>\n",
       "      <td>863613.99</td>\n",
       "      <td>259547.73</td>\n",
       "      <td>118452.41</td>\n",
       "      <td>103092.67</td>\n",
       "      <td>13779255.49</td>\n",
       "      <td>NaN</td>\n",
       "      <td>NaN</td>\n",
       "      <td>NaN</td>\n",
       "      <td>NaN</td>\n",
       "      <td>NaN</td>\n",
       "    </tr>\n",
       "    <tr>\n",
       "      <th>4</th>\n",
       "      <td>1985</td>\n",
       "      <td>Annual</td>\n",
       "      <td>2731062.47</td>\n",
       "      <td>2180907.71</td>\n",
       "      <td>428102.85</td>\n",
       "      <td>78082.45</td>\n",
       "      <td>43969.46</td>\n",
       "      <td>6379599.38</td>\n",
       "      <td>NaN</td>\n",
       "      <td>4918272.50</td>\n",
       "      <td>...</td>\n",
       "      <td>882460.14</td>\n",
       "      <td>265211.69</td>\n",
       "      <td>121037.33</td>\n",
       "      <td>98790.30</td>\n",
       "      <td>14953913.05</td>\n",
       "      <td>NaN</td>\n",
       "      <td>NaN</td>\n",
       "      <td>NaN</td>\n",
       "      <td>NaN</td>\n",
       "      <td>NaN</td>\n",
       "    </tr>\n",
       "  </tbody>\n",
       "</table>\n",
       "<p>5 rows × 39 columns</p>\n",
       "</div>"
      ],
      "text/plain": [
       "   index   tyear      Period  Agriculture  CropProduction  Livestock  \\\n",
       "0   1981  Annual  2364373.15   1854764.44       341411.50   77897.99   \n",
       "1   1982  Annual  2425960.89   1897078.85       361115.70   73910.25   \n",
       "2   1983  Annual  2409081.92   1842704.31       393131.01   75282.78   \n",
       "3   1984  Annual  2303505.42   1759115.15       399685.38   76694.14   \n",
       "4   1985  Annual  2731062.47   2180907.71       428102.85   78082.45   \n",
       "\n",
       "   Forestry     Fishing  Industry  MiningAndQuarrying  ...  \\\n",
       "0  90299.23  6603250.12       NaN          4977416.70  ...   \n",
       "1  93856.08  6272828.03       NaN          4453093.63  ...   \n",
       "2  97963.82  5264881.39       NaN          4052977.68  ...   \n",
       "3  68010.74  5621181.44       NaN          4559196.21  ...   \n",
       "4  43969.46  6379599.38       NaN          4918272.50  ...   \n",
       "\n",
       "   AdministrativeAndSupportServicesBusinessServices  PublicAdministration  \\\n",
       "0                                         807075.54             242555.85   \n",
       "1                                         825921.69             248219.81   \n",
       "2                                         844767.84             253883.77   \n",
       "3                                         863613.99             259547.73   \n",
       "4                                         882460.14             265211.69   \n",
       "\n",
       "   Education  HumanHealthAndSocialServices  OtherServices  TOTAL_GDP  \\\n",
       "0  110697.65                     132700.20    15258004.34        NaN   \n",
       "1  113282.57                     133767.58    14985078.32        NaN   \n",
       "2  115867.49                     125819.69    13849725.17        NaN   \n",
       "3  118452.41                     103092.67    13779255.49        NaN   \n",
       "4  121037.33                      98790.30    14953913.05        NaN   \n",
       "\n",
       "   TotalGDPatConstantBasicPrices  NonOilGDPatConstantBasicPrices  \\\n",
       "0                            NaN                             NaN   \n",
       "1                            NaN                             NaN   \n",
       "2                            NaN                             NaN   \n",
       "3                            NaN                             NaN   \n",
       "4                            NaN                             NaN   \n",
       "\n",
       "   NetIndirectTaxesOnProducts  TotalGDPatConstantMarketPrices  \n",
       "0                         NaN                             NaN  \n",
       "1                         NaN                             NaN  \n",
       "2                         NaN                             NaN  \n",
       "3                         NaN                             NaN  \n",
       "4                         NaN                             NaN  \n",
       "\n",
       "[5 rows x 39 columns]"
      ]
     },
     "execution_count": 24,
     "metadata": {},
     "output_type": "execute_result"
    }
   ],
   "source": [
    "gdp.reset_index(inplace=True)\n",
    "gdp.head()"
   ]
  },
  {
   "cell_type": "code",
   "execution_count": 25,
   "metadata": {},
   "outputs": [],
   "source": [
    "gdp.rename({'index':'tyear', 'tyear':'Period', 'Period':'Agriculture', 'Agriculture':'CropPro', 'CropProduction':'Livestock',\n",
    "       'Livestock':'Forestry', 'Forestry':'Fishing', 'Fishing':'Industry', 'Industry':'Mining', 'MiningAndQuarrying':'Crudeoil',\n",
    "       'CrudePetroleumAndNaturalGas':'SolidMinerals', 'SolidMinerals':'CoalMining', 'CoalMining':'MetalOres',\n",
    "       'MetalOres':'Quarrying', 'QuarryingAndOtherMinerals':'Manufacturing', 'Manufacturing':'Electrcity',\n",
    "       'ElectricityGasSteamAndAirCon':'Watersupply', 'WaterSupplySewageWaste':'Construction',\n",
    "       'Construction':'Services', 'Services':'Trade', 'Trade':'Accomondation', 'AccommodationAndFoodServices':'Transport',\n",
    "       'Transport':'ICT', 'InformationAndCommunication':'Utilities', 'Utilities':'Entertainment',\n",
    "       'ArtsEntertainmentAndRecreation':'FININS', 'FinanceAndInsurance':'RealEstate', 'RealEstate':'ProTech',\n",
    "       'ProfessionalScientificAndTechnicalServices':'BusinessService',\n",
    "       'AdministrativeAndSupportServicesBusinessServices':'PublicAdmin',\n",
    "       'PublicAdministration':'Education', 'Education':'HealthService', 'HumanHealthAndSocialServices':'OtherServices',\n",
    "       'OtherServices':'TOTAL_GDP', 'TOTAL_GDP':'TotalGDPatConstantBasicPrices', 'TotalGDPatConstantBasicPrices':'NonOilGDPatConstantBasicPrices',\n",
    "       'NonOilGDPatConstantBasicPrices':'NetIndirectTaxesOnProducts', 'NetIndirectTaxesOnProducts':'TotalGDPatConstantMarketPrices',\n",
    "       },axis =1,inplace =True)"
   ]
  },
  {
   "cell_type": "code",
   "execution_count": 26,
   "metadata": {},
   "outputs": [
    {
     "data": {
      "text/plain": [
       "tyear                              0\n",
       "Period                             0\n",
       "Agriculture                        0\n",
       "CropPro                            0\n",
       "Livestock                          0\n",
       "Forestry                           0\n",
       "Fishing                            0\n",
       "Industry                           0\n",
       "Mining                            77\n",
       "Crudeoil                           0\n",
       "SolidMinerals                      0\n",
       "CoalMining                        77\n",
       "MetalOres                         77\n",
       "Quarrying                         77\n",
       "Manufacturing                      0\n",
       "Electrcity                        77\n",
       "Watersupply                       77\n",
       "Construction                       0\n",
       "Services                           0\n",
       "Trade                              0\n",
       "Accomondation                      0\n",
       "Transport                          0\n",
       "ICT                                0\n",
       "Utilities                          0\n",
       "Entertainment                      0\n",
       "FININS                             0\n",
       "RealEstate                         0\n",
       "ProTech                            0\n",
       "BusinessService                    0\n",
       "PublicAdmin                        0\n",
       "Education                          0\n",
       "HealthService                      0\n",
       "OtherServices                      0\n",
       "TOTAL_GDP                          0\n",
       "TotalGDPatConstantBasicPrices     77\n",
       "NonOilGDPatConstantBasicPrices    77\n",
       "NetIndirectTaxesOnProducts        77\n",
       "TotalGDPatConstantMarketPrices    77\n",
       "TotalGDPatConstantMarketPrices    77\n",
       "dtype: int64"
      ]
     },
     "execution_count": 26,
     "metadata": {},
     "output_type": "execute_result"
    }
   ],
   "source": [
    "gdp.isnull().sum()"
   ]
  },
  {
   "cell_type": "code",
   "execution_count": 27,
   "metadata": {},
   "outputs": [],
   "source": [
    "gdp.drop(['Mining','CoalMining','MetalOres','Quarrying','Electrcity','Watersupply','TotalGDPatConstantBasicPrices','NonOilGDPatConstantBasicPrices','NetIndirectTaxesOnProducts', 'TotalGDPatConstantMarketPrices','TotalGDPatConstantMarketPrices'],axis  = 1, inplace=True)"
   ]
  },
  {
   "cell_type": "code",
   "execution_count": 29,
   "metadata": {},
   "outputs": [
    {
     "data": {
      "text/html": [
       "<div>\n",
       "<style scoped>\n",
       "    .dataframe tbody tr th:only-of-type {\n",
       "        vertical-align: middle;\n",
       "    }\n",
       "\n",
       "    .dataframe tbody tr th {\n",
       "        vertical-align: top;\n",
       "    }\n",
       "\n",
       "    .dataframe thead th {\n",
       "        text-align: right;\n",
       "    }\n",
       "</style>\n",
       "<table border=\"1\" class=\"dataframe\">\n",
       "  <thead>\n",
       "    <tr style=\"text-align: right;\">\n",
       "      <th></th>\n",
       "      <th>tyear</th>\n",
       "      <th>Period</th>\n",
       "      <th>Agriculture</th>\n",
       "      <th>CropPro</th>\n",
       "      <th>Livestock</th>\n",
       "      <th>Forestry</th>\n",
       "      <th>Fishing</th>\n",
       "      <th>Industry</th>\n",
       "      <th>Crudeoil</th>\n",
       "      <th>SolidMinerals</th>\n",
       "      <th>...</th>\n",
       "      <th>Entertainment</th>\n",
       "      <th>FININS</th>\n",
       "      <th>RealEstate</th>\n",
       "      <th>ProTech</th>\n",
       "      <th>BusinessService</th>\n",
       "      <th>PublicAdmin</th>\n",
       "      <th>Education</th>\n",
       "      <th>HealthService</th>\n",
       "      <th>OtherServices</th>\n",
       "      <th>TOTAL_GDP</th>\n",
       "    </tr>\n",
       "  </thead>\n",
       "  <tbody>\n",
       "    <tr>\n",
       "      <th>0</th>\n",
       "      <td>1981</td>\n",
       "      <td>Annual</td>\n",
       "      <td>2364373.15</td>\n",
       "      <td>1854764.44</td>\n",
       "      <td>341411.50</td>\n",
       "      <td>77897.99</td>\n",
       "      <td>90299.23</td>\n",
       "      <td>6603250.12</td>\n",
       "      <td>4977416.70</td>\n",
       "      <td>67136.73</td>\n",
       "      <td>...</td>\n",
       "      <td>4561.07</td>\n",
       "      <td>282170.74</td>\n",
       "      <td>1063959.81</td>\n",
       "      <td>421381.98</td>\n",
       "      <td>3234.81</td>\n",
       "      <td>807075.54</td>\n",
       "      <td>242555.85</td>\n",
       "      <td>110697.65</td>\n",
       "      <td>132700.20</td>\n",
       "      <td>15258004.34</td>\n",
       "    </tr>\n",
       "    <tr>\n",
       "      <th>1</th>\n",
       "      <td>1982</td>\n",
       "      <td>Annual</td>\n",
       "      <td>2425960.89</td>\n",
       "      <td>1897078.85</td>\n",
       "      <td>361115.70</td>\n",
       "      <td>73910.25</td>\n",
       "      <td>93856.08</td>\n",
       "      <td>6272828.03</td>\n",
       "      <td>4453093.63</td>\n",
       "      <td>54840.50</td>\n",
       "      <td>...</td>\n",
       "      <td>4597.76</td>\n",
       "      <td>372267.76</td>\n",
       "      <td>1074049.33</td>\n",
       "      <td>423670.54</td>\n",
       "      <td>3252.38</td>\n",
       "      <td>825921.69</td>\n",
       "      <td>248219.81</td>\n",
       "      <td>113282.57</td>\n",
       "      <td>133767.58</td>\n",
       "      <td>14985078.32</td>\n",
       "    </tr>\n",
       "    <tr>\n",
       "      <th>2</th>\n",
       "      <td>1983</td>\n",
       "      <td>Annual</td>\n",
       "      <td>2409081.92</td>\n",
       "      <td>1842704.31</td>\n",
       "      <td>393131.01</td>\n",
       "      <td>75282.78</td>\n",
       "      <td>97963.82</td>\n",
       "      <td>5264881.39</td>\n",
       "      <td>4052977.68</td>\n",
       "      <td>44014.84</td>\n",
       "      <td>...</td>\n",
       "      <td>4324.58</td>\n",
       "      <td>336896.50</td>\n",
       "      <td>1086703.98</td>\n",
       "      <td>481170.73</td>\n",
       "      <td>3693.79</td>\n",
       "      <td>844767.84</td>\n",
       "      <td>253883.77</td>\n",
       "      <td>115867.49</td>\n",
       "      <td>125819.69</td>\n",
       "      <td>13849725.17</td>\n",
       "    </tr>\n",
       "    <tr>\n",
       "      <th>3</th>\n",
       "      <td>1984</td>\n",
       "      <td>Annual</td>\n",
       "      <td>2303505.42</td>\n",
       "      <td>1759115.15</td>\n",
       "      <td>399685.38</td>\n",
       "      <td>76694.14</td>\n",
       "      <td>68010.74</td>\n",
       "      <td>5621181.44</td>\n",
       "      <td>4559196.21</td>\n",
       "      <td>43078.37</td>\n",
       "      <td>...</td>\n",
       "      <td>3543.43</td>\n",
       "      <td>267287.62</td>\n",
       "      <td>1086931.99</td>\n",
       "      <td>518359.90</td>\n",
       "      <td>3979.28</td>\n",
       "      <td>863613.99</td>\n",
       "      <td>259547.73</td>\n",
       "      <td>118452.41</td>\n",
       "      <td>103092.67</td>\n",
       "      <td>13779255.49</td>\n",
       "    </tr>\n",
       "    <tr>\n",
       "      <th>4</th>\n",
       "      <td>1985</td>\n",
       "      <td>Annual</td>\n",
       "      <td>2731062.47</td>\n",
       "      <td>2180907.71</td>\n",
       "      <td>428102.85</td>\n",
       "      <td>78082.45</td>\n",
       "      <td>43969.46</td>\n",
       "      <td>6379599.38</td>\n",
       "      <td>4918272.50</td>\n",
       "      <td>44539.09</td>\n",
       "      <td>...</td>\n",
       "      <td>3395.55</td>\n",
       "      <td>254993.44</td>\n",
       "      <td>1091378.22</td>\n",
       "      <td>602464.66</td>\n",
       "      <td>4624.92</td>\n",
       "      <td>882460.14</td>\n",
       "      <td>265211.69</td>\n",
       "      <td>121037.33</td>\n",
       "      <td>98790.30</td>\n",
       "      <td>14953913.05</td>\n",
       "    </tr>\n",
       "  </tbody>\n",
       "</table>\n",
       "<p>5 rows × 28 columns</p>\n",
       "</div>"
      ],
      "text/plain": [
       "   tyear  Period  Agriculture     CropPro  Livestock  Forestry   Fishing  \\\n",
       "0   1981  Annual   2364373.15  1854764.44  341411.50  77897.99  90299.23   \n",
       "1   1982  Annual   2425960.89  1897078.85  361115.70  73910.25  93856.08   \n",
       "2   1983  Annual   2409081.92  1842704.31  393131.01  75282.78  97963.82   \n",
       "3   1984  Annual   2303505.42  1759115.15  399685.38  76694.14  68010.74   \n",
       "4   1985  Annual   2731062.47  2180907.71  428102.85  78082.45  43969.46   \n",
       "\n",
       "     Industry    Crudeoil  SolidMinerals  ...  Entertainment     FININS  \\\n",
       "0  6603250.12  4977416.70       67136.73  ...        4561.07  282170.74   \n",
       "1  6272828.03  4453093.63       54840.50  ...        4597.76  372267.76   \n",
       "2  5264881.39  4052977.68       44014.84  ...        4324.58  336896.50   \n",
       "3  5621181.44  4559196.21       43078.37  ...        3543.43  267287.62   \n",
       "4  6379599.38  4918272.50       44539.09  ...        3395.55  254993.44   \n",
       "\n",
       "   RealEstate    ProTech  BusinessService  PublicAdmin  Education  \\\n",
       "0  1063959.81  421381.98          3234.81    807075.54  242555.85   \n",
       "1  1074049.33  423670.54          3252.38    825921.69  248219.81   \n",
       "2  1086703.98  481170.73          3693.79    844767.84  253883.77   \n",
       "3  1086931.99  518359.90          3979.28    863613.99  259547.73   \n",
       "4  1091378.22  602464.66          4624.92    882460.14  265211.69   \n",
       "\n",
       "   HealthService  OtherServices    TOTAL_GDP  \n",
       "0      110697.65      132700.20  15258004.34  \n",
       "1      113282.57      133767.58  14985078.32  \n",
       "2      115867.49      125819.69  13849725.17  \n",
       "3      118452.41      103092.67  13779255.49  \n",
       "4      121037.33       98790.30  14953913.05  \n",
       "\n",
       "[5 rows x 28 columns]"
      ]
     },
     "execution_count": 29,
     "metadata": {},
     "output_type": "execute_result"
    }
   ],
   "source": [
    "gdp2 = gdp[gdp['Period'] == 'Annual']\n",
    "gdp2.head()"
   ]
  },
  {
   "cell_type": "code",
   "execution_count": 30,
   "metadata": {},
   "outputs": [
    {
     "name": "stderr",
     "output_type": "stream",
     "text": [
      "C:\\Users\\HP\\AppData\\Local\\Temp\\ipykernel_2204\\2420079530.py:1: SettingWithCopyWarning: \n",
      "A value is trying to be set on a copy of a slice from a DataFrame\n",
      "\n",
      "See the caveats in the documentation: https://pandas.pydata.org/pandas-docs/stable/user_guide/indexing.html#returning-a-view-versus-a-copy\n",
      "  gdp2.drop(['tyear','Period'],axis=1,inplace= True)\n"
     ]
    }
   ],
   "source": [
    "gdp2.drop(['tyear','Period'],axis=1,inplace= True)"
   ]
  },
  {
   "cell_type": "code",
   "execution_count": 31,
   "metadata": {},
   "outputs": [],
   "source": [
    "X = gdp2.drop('TOTAL_GDP',axis = 1)\n",
    "y= gdp2['TOTAL_GDP']\n",
    "\n",
    "X_train,X_test,y_train,y_test = train_test_split(X,y, test_size=0.1, random_state = 1)"
   ]
  },
  {
   "cell_type": "code",
   "execution_count": 32,
   "metadata": {},
   "outputs": [
    {
     "data": {
      "text/plain": [
       "LinearRegression()"
      ]
     },
     "execution_count": 32,
     "metadata": {},
     "output_type": "execute_result"
    }
   ],
   "source": [
    "model2 = LinearRegression()\n",
    "model2.fit(X_train,y_train)"
   ]
  },
  {
   "cell_type": "code",
   "execution_count": 33,
   "metadata": {},
   "outputs": [
    {
     "data": {
      "text/plain": [
       "array([13849725.18561945, 54612264.15385722, 13779255.50797706,\n",
       "       31709447.37837635])"
      ]
     },
     "execution_count": 33,
     "metadata": {},
     "output_type": "execute_result"
    }
   ],
   "source": [
    "pred2 = model2.predict(X_test)\n",
    "pred2"
   ]
  },
  {
   "cell_type": "code",
   "execution_count": 35,
   "metadata": {},
   "outputs": [
    {
     "name": "stdout",
     "output_type": "stream",
     "text": [
      "1.0\n"
     ]
    }
   ],
   "source": [
    "print(r2_score(y_test,pred2))"
   ]
  },
  {
   "cell_type": "code",
   "execution_count": 36,
   "metadata": {},
   "outputs": [
    {
     "data": {
      "text/html": [
       "<div>\n",
       "<style scoped>\n",
       "    .dataframe tbody tr th:only-of-type {\n",
       "        vertical-align: middle;\n",
       "    }\n",
       "\n",
       "    .dataframe tbody tr th {\n",
       "        vertical-align: top;\n",
       "    }\n",
       "\n",
       "    .dataframe thead th {\n",
       "        text-align: right;\n",
       "    }\n",
       "</style>\n",
       "<table border=\"1\" class=\"dataframe\">\n",
       "  <thead>\n",
       "    <tr style=\"text-align: right;\">\n",
       "      <th></th>\n",
       "      <th>Coefficient</th>\n",
       "    </tr>\n",
       "  </thead>\n",
       "  <tbody>\n",
       "    <tr>\n",
       "      <th>Agriculture</th>\n",
       "      <td>0.550759</td>\n",
       "    </tr>\n",
       "    <tr>\n",
       "      <th>CropPro</th>\n",
       "      <td>0.449241</td>\n",
       "    </tr>\n",
       "    <tr>\n",
       "      <th>Livestock</th>\n",
       "      <td>0.449242</td>\n",
       "    </tr>\n",
       "    <tr>\n",
       "      <th>Forestry</th>\n",
       "      <td>0.449242</td>\n",
       "    </tr>\n",
       "    <tr>\n",
       "      <th>Fishing</th>\n",
       "      <td>0.449241</td>\n",
       "    </tr>\n",
       "    <tr>\n",
       "      <th>Industry</th>\n",
       "      <td>0.971007</td>\n",
       "    </tr>\n",
       "    <tr>\n",
       "      <th>Crudeoil</th>\n",
       "      <td>0.028993</td>\n",
       "    </tr>\n",
       "    <tr>\n",
       "      <th>SolidMinerals</th>\n",
       "      <td>0.028993</td>\n",
       "    </tr>\n",
       "    <tr>\n",
       "      <th>Manufacturing</th>\n",
       "      <td>0.028993</td>\n",
       "    </tr>\n",
       "    <tr>\n",
       "      <th>Construction</th>\n",
       "      <td>1.000000</td>\n",
       "    </tr>\n",
       "    <tr>\n",
       "      <th>Services</th>\n",
       "      <td>0.618896</td>\n",
       "    </tr>\n",
       "    <tr>\n",
       "      <th>Trade</th>\n",
       "      <td>1.000000</td>\n",
       "    </tr>\n",
       "    <tr>\n",
       "      <th>Accomondation</th>\n",
       "      <td>0.381105</td>\n",
       "    </tr>\n",
       "    <tr>\n",
       "      <th>Transport</th>\n",
       "      <td>0.381105</td>\n",
       "    </tr>\n",
       "    <tr>\n",
       "      <th>ICT</th>\n",
       "      <td>0.381104</td>\n",
       "    </tr>\n",
       "    <tr>\n",
       "      <th>Utilities</th>\n",
       "      <td>0.381105</td>\n",
       "    </tr>\n",
       "    <tr>\n",
       "      <th>Entertainment</th>\n",
       "      <td>0.381102</td>\n",
       "    </tr>\n",
       "    <tr>\n",
       "      <th>FININS</th>\n",
       "      <td>0.381104</td>\n",
       "    </tr>\n",
       "    <tr>\n",
       "      <th>RealEstate</th>\n",
       "      <td>0.381104</td>\n",
       "    </tr>\n",
       "    <tr>\n",
       "      <th>ProTech</th>\n",
       "      <td>0.381105</td>\n",
       "    </tr>\n",
       "    <tr>\n",
       "      <th>BusinessService</th>\n",
       "      <td>0.381023</td>\n",
       "    </tr>\n",
       "    <tr>\n",
       "      <th>PublicAdmin</th>\n",
       "      <td>0.381104</td>\n",
       "    </tr>\n",
       "    <tr>\n",
       "      <th>Education</th>\n",
       "      <td>0.381104</td>\n",
       "    </tr>\n",
       "    <tr>\n",
       "      <th>HealthService</th>\n",
       "      <td>0.381104</td>\n",
       "    </tr>\n",
       "    <tr>\n",
       "      <th>OtherServices</th>\n",
       "      <td>0.381104</td>\n",
       "    </tr>\n",
       "  </tbody>\n",
       "</table>\n",
       "</div>"
      ],
      "text/plain": [
       "                 Coefficient\n",
       "Agriculture         0.550759\n",
       "CropPro             0.449241\n",
       "Livestock           0.449242\n",
       "Forestry            0.449242\n",
       "Fishing             0.449241\n",
       "Industry            0.971007\n",
       "Crudeoil            0.028993\n",
       "SolidMinerals       0.028993\n",
       "Manufacturing       0.028993\n",
       "Construction        1.000000\n",
       "Services            0.618896\n",
       "Trade               1.000000\n",
       "Accomondation       0.381105\n",
       "Transport           0.381105\n",
       "ICT                 0.381104\n",
       "Utilities           0.381105\n",
       "Entertainment       0.381102\n",
       "FININS              0.381104\n",
       "RealEstate          0.381104\n",
       "ProTech             0.381105\n",
       "BusinessService     0.381023\n",
       "PublicAdmin         0.381104\n",
       "Education           0.381104\n",
       "HealthService       0.381104\n",
       "OtherServices       0.381104"
      ]
     },
     "execution_count": 36,
     "metadata": {},
     "output_type": "execute_result"
    }
   ],
   "source": [
    "coef = pd.DataFrame(data = model2.coef_, index = X.columns, columns = ['Coefficient'])\n",
    "\n",
    "coef"
   ]
  },
  {
   "cell_type": "code",
   "execution_count": 37,
   "metadata": {},
   "outputs": [
    {
     "name": "stdout",
     "output_type": "stream",
     "text": [
      "0.01784073607996106\n"
     ]
    }
   ],
   "source": [
    "\n",
    "print(mean_absolute_error(y_test,pred2))"
   ]
  },
  {
   "cell_type": "code",
   "execution_count": 38,
   "metadata": {},
   "outputs": [
    {
     "name": "stdout",
     "output_type": "stream",
     "text": [
      "0.00034642402711938195\n"
     ]
    }
   ],
   "source": [
    "print(mean_squared_error(y_test,pred2))"
   ]
  },
  {
   "cell_type": "code",
   "execution_count": 39,
   "metadata": {},
   "outputs": [
    {
     "name": "stdout",
     "output_type": "stream",
     "text": [
      "0.018612469667386486\n"
     ]
    }
   ],
   "source": [
    "print(np.sqrt(mean_squared_error(y_test,pred2)))"
   ]
  },
  {
   "cell_type": "code",
   "execution_count": null,
   "metadata": {},
   "outputs": [],
   "source": []
  }
 ],
 "metadata": {
  "interpreter": {
   "hash": "9bf2ca0f4a7adc3ce2f237ca763c1538d3ef289a4e7face3612a01cdae9f6807"
  },
  "kernelspec": {
   "display_name": "Python 3.10.2 64-bit",
   "language": "python",
   "name": "python3"
  },
  "language_info": {
   "codemirror_mode": {
    "name": "ipython",
    "version": 3
   },
   "file_extension": ".py",
   "mimetype": "text/x-python",
   "name": "python",
   "nbconvert_exporter": "python",
   "pygments_lexer": "ipython3",
   "version": "3.10.2"
  },
  "orig_nbformat": 4
 },
 "nbformat": 4,
 "nbformat_minor": 2
}
